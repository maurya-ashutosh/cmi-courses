{
  "cells": [
    {
      "cell_type": "code",
      "execution_count": null,
      "id": "83685083",
      "metadata": {
        "id": "83685083"
      },
      "outputs": [],
      "source": [
        "import os\n",
        "import nltk\n",
        "import copy\n",
        "import h5py\n",
        "import random\n",
        "import regex as re\n",
        "import string\n",
        "import pickle\n",
        "import numpy as np\n",
        "import pandas as pd\n",
        "import matplotlib.pyplot as plt\n",
        "\n",
        "from nltk import ngrams\n",
        "from nltk.corpus import words\n",
        "from nltk.corpus import stopwords\n",
        "from collections import Counter\n",
        "from collections import OrderedDict\n",
        "from sklearn.preprocessing import normalize\n",
        "from sklearn.decomposition import TruncatedSVD\n",
        "from sklearn.manifold import TSNE\n",
        "\n",
        "nltk.download('stopwords')\n",
        "all_stopwords = stopwords.words('english')"
      ]
    },
    {
      "cell_type": "code",
      "execution_count": null,
      "id": "2d5c03ae",
      "metadata": {
        "id": "2d5c03ae",
        "outputId": "6f505a67-77d4-4840-9ec8-206a7efe4712"
      },
      "outputs": [
        {
          "name": "stdout",
          "output_type": "stream",
          "text": [
            "CPU times: total: 36 s\n",
            "Wall time: 50.7 s\n"
          ]
        }
      ],
      "source": [
        "## Loading previously preprocessed corpus as a list of words\n",
        "\n",
        "%%time\n",
        "all_words_bi = pickle.load(open('all_words_bi','rb'))"
      ]
    },
    {
      "cell_type": "code",
      "execution_count": null,
      "id": "27811a56",
      "metadata": {
        "id": "27811a56",
        "outputId": "a719c3b4-f868-412c-b6dd-d54a84eab3e9"
      },
      "outputs": [
        {
          "data": {
            "text/plain": [
              "['bgnsntnc',\n",
              " 'according',\n",
              " 'to',\n",
              " 'current',\n",
              " 'live',\n",
              " 'statistics',\n",
              " 'at',\n",
              " 'the',\n",
              " 'time',\n",
              " 'of']"
            ]
          },
          "execution_count": 3,
          "metadata": {},
          "output_type": "execute_result"
        }
      ],
      "source": [
        "all_words_bi[:10]"
      ]
    },
    {
      "cell_type": "code",
      "execution_count": null,
      "id": "1422438a",
      "metadata": {
        "id": "1422438a"
      },
      "outputs": [],
      "source": [
        "from nltk.stem import PorterStemmer\n",
        "ps = PorterStemmer()"
      ]
    },
    {
      "cell_type": "code",
      "execution_count": null,
      "id": "df49c97d",
      "metadata": {
        "id": "df49c97d",
        "outputId": "eae493dc-f64c-4ee1-ea41-e2618804d44f"
      },
      "outputs": [
        {
          "name": "stdout",
          "output_type": "stream",
          "text": [
            "CPU times: total: 53min 34s\n",
            "Wall time: 54min 15s\n"
          ]
        }
      ],
      "source": [
        "## Stemming all words to get only root words since our goal is to only check similarity between words\n",
        "\n",
        "%%time\n",
        "all_words_bi_stem = [ps.stem(w) for w in all_words_bi]"
      ]
    },
    {
      "cell_type": "code",
      "execution_count": null,
      "id": "03ef15e1",
      "metadata": {
        "id": "03ef15e1"
      },
      "outputs": [],
      "source": [
        "# pickle.dump(all_words_bi_stem,open('all_words_bi_stem','wb'))"
      ]
    },
    {
      "cell_type": "code",
      "execution_count": null,
      "id": "47d6f504",
      "metadata": {
        "id": "47d6f504"
      },
      "outputs": [],
      "source": [
        "from nltk.stem import WordNetLemmatizer\n",
        "lemmatizer = WordNetLemmatizer()"
      ]
    },
    {
      "cell_type": "code",
      "execution_count": null,
      "id": "294797af",
      "metadata": {
        "id": "294797af",
        "outputId": "828acfd9-ba26-4ede-a015-85691e2a3d29"
      },
      "outputs": [
        {
          "name": "stdout",
          "output_type": "stream",
          "text": [
            "CPU times: total: 14min 6s\n",
            "Wall time: 17min 1s\n"
          ]
        }
      ],
      "source": [
        "## Lemmatizing all words to get contracted words since our goal is to only check similarity between words\n",
        "\n",
        "%%time\n",
        "all_words_bi_stem_lem = [lemmatizer.lemmatize(w) for w in all_words_bi_stem]"
      ]
    },
    {
      "cell_type": "code",
      "execution_count": null,
      "id": "e40cac45",
      "metadata": {
        "id": "e40cac45"
      },
      "outputs": [],
      "source": [
        "# pickle.dump(all_words_bi_stem_lem,open('all_words_bi_stem_lem','wb'))"
      ]
    },
    {
      "cell_type": "code",
      "execution_count": null,
      "id": "5559b803",
      "metadata": {
        "id": "5559b803",
        "outputId": "4168a2b3-1508-40db-9fed-d082547105bf"
      },
      "outputs": [
        {
          "data": {
            "text/plain": [
              "['bgnsntnc',\n",
              " 'accord',\n",
              " 'to',\n",
              " 'current',\n",
              " 'live',\n",
              " 'statist',\n",
              " 'at',\n",
              " 'the',\n",
              " 'time',\n",
              " 'of']"
            ]
          },
          "execution_count": 13,
          "metadata": {},
          "output_type": "execute_result"
        }
      ],
      "source": [
        "all_words_bi_stem_lem[:10]"
      ]
    },
    {
      "cell_type": "code",
      "execution_count": null,
      "id": "90317093",
      "metadata": {
        "id": "90317093",
        "outputId": "bb178451-7a1d-4511-edc9-99a281677f93"
      },
      "outputs": [
        {
          "name": "stdout",
          "output_type": "stream",
          "text": [
            "CPU times: total: 45 s\n",
            "Wall time: 1min 30s\n"
          ]
        }
      ],
      "source": [
        "%%time\n",
        "all_words_clean = [w for w in all_words_bi_stem_lem if w not in ['bgnsntnc','endsntnc']]"
      ]
    },
    {
      "cell_type": "code",
      "execution_count": null,
      "id": "3518c91a",
      "metadata": {
        "id": "3518c91a"
      },
      "outputs": [],
      "source": [
        "# pickle.dump(all_words_clean,open('all_words_clean','wb'))"
      ]
    },
    {
      "cell_type": "code",
      "execution_count": null,
      "id": "04266562",
      "metadata": {
        "id": "04266562",
        "outputId": "5ce9577b-f876-4c0f-c359-e280e6dfbd56"
      },
      "outputs": [
        {
          "data": {
            "text/plain": [
              "['accord',\n",
              " 'to',\n",
              " 'current',\n",
              " 'live',\n",
              " 'statist',\n",
              " 'at',\n",
              " 'the',\n",
              " 'time',\n",
              " 'of',\n",
              " 'edit']"
            ]
          },
          "execution_count": 16,
          "metadata": {},
          "output_type": "execute_result"
        }
      ],
      "source": [
        "all_words_clean[:10]"
      ]
    },
    {
      "cell_type": "code",
      "execution_count": null,
      "id": "69992b9d",
      "metadata": {
        "id": "69992b9d",
        "outputId": "e1b69946-0703-4999-fc6b-bf7372d3ba5e"
      },
      "outputs": [
        {
          "name": "stdout",
          "output_type": "stream",
          "text": [
            "CPU times: total: 46.3 s\n",
            "Wall time: 1min 42s\n"
          ]
        }
      ],
      "source": [
        "## Creating vocabulary\n",
        "\n",
        "%%time\n",
        "vocabulary = Counter(all_words_clean)"
      ]
    },
    {
      "cell_type": "code",
      "execution_count": null,
      "id": "6a7b10e7",
      "metadata": {
        "id": "6a7b10e7",
        "outputId": "69a8e921-42b2-4f86-98b5-8a47ac9e90cd"
      },
      "outputs": [
        {
          "name": "stdout",
          "output_type": "stream",
          "text": [
            "CPU times: total: 1min 30s\n",
            "Wall time: 3min 19s\n"
          ]
        }
      ],
      "source": [
        "%%time\n",
        "vocab_freq = OrderedDict(vocabulary.most_common())"
      ]
    },
    {
      "cell_type": "code",
      "execution_count": null,
      "id": "f70c89e8",
      "metadata": {
        "id": "f70c89e8",
        "outputId": "1ac634cf-cd2f-42f9-85cc-a67e60b9cca4"
      },
      "outputs": [
        {
          "name": "stdout",
          "output_type": "stream",
          "text": [
            "CPU times: total: 797 ms\n",
            "Wall time: 879 ms\n"
          ]
        }
      ],
      "source": [
        "# %%time\n",
        "# pickle.dump(vocab_freq,open('vocab_freq','wb'))"
      ]
    },
    {
      "cell_type": "code",
      "execution_count": null,
      "id": "16e1f0f0",
      "metadata": {
        "id": "16e1f0f0",
        "outputId": "b549ec75-5610-41ed-89be-1a0d5b26bb81"
      },
      "outputs": [
        {
          "name": "stdout",
          "output_type": "stream",
          "text": [
            "CPU times: total: 469 ms\n",
            "Wall time: 476 ms\n"
          ]
        }
      ],
      "source": [
        "%%time\n",
        "vocab_freq = pickle.load(open('vocab_freq','rb'))"
      ]
    },
    {
      "cell_type": "code",
      "execution_count": null,
      "id": "c9d716ce",
      "metadata": {
        "id": "c9d716ce",
        "outputId": "3869a2a1-92e4-4f30-ae21-42cac6fa4029"
      },
      "outputs": [
        {
          "data": {
            "text/plain": [
              "1163011"
            ]
          },
          "execution_count": 4,
          "metadata": {},
          "output_type": "execute_result"
        }
      ],
      "source": [
        "len(vocab_freq)"
      ]
    },
    {
      "cell_type": "code",
      "execution_count": null,
      "id": "65abc5fa",
      "metadata": {
        "id": "65abc5fa",
        "outputId": "5a5c2d9a-66cb-4d70-fe03-06773e615ed3"
      },
      "outputs": [
        {
          "data": {
            "text/plain": [
              "array([10403671,  7018860,  5887379,  4689042,  4466119,  4038197,\n",
              "        1968685,  1943795,  1871582,  1503290,  1226751,  1175797,\n",
              "        1135868,  1084954,  1023726,   933368,   932637,   882325,\n",
              "         877489,   838102,   753900,   701257,   676534,   650679,\n",
              "         635389,   632150,   612529,   597304,   594384,   594062,\n",
              "         536573,   530686,   528803,   477842,   461348,   423442,\n",
              "         410012,   403541,   386567,   376884,   375814,   364106,\n",
              "         360551,   350654,   347025,   343209,   338935,   331637,\n",
              "         324004,   321311,   318439,   306368,   305401,   305224,\n",
              "         302052,   300512,   292664,   286377,   284063,   284042,\n",
              "         283003,   282224,   277938,   277183,   271825,   269702,\n",
              "         265571,   258123,   257583,   255074,   241328,   238648,\n",
              "         237699,   237529,   236560,   235528,   235076,   234347,\n",
              "         231405,   231329,   229301,   228099,   227123,   226234,\n",
              "         224867,   223439,   219302,   214178,   213559,   210964,\n",
              "         209702,   208872,   208449,   207741,   207319,   207230,\n",
              "         207054,   206952,   206924,   202330])"
            ]
          },
          "execution_count": 5,
          "metadata": {},
          "output_type": "execute_result"
        }
      ],
      "source": [
        "## Since the vocabulary consists of more than 11 lakh words, we analyze the frequency of words to remove words to get a smaller vocabulary\n",
        "\n",
        "frequencies = np.array(list(vocab_freq.values()))\n",
        "frequencies[:100]"
      ]
    },
    {
      "cell_type": "code",
      "execution_count": null,
      "id": "c6398feb",
      "metadata": {
        "id": "c6398feb",
        "outputId": "6104a086-f2c5-4f7e-9cda-80733d98ad55"
      },
      "outputs": [
        {
          "data": {
            "text/plain": [
              "array([0.05673096, 0.03827367, 0.03210373, 0.02556923, 0.02435364,\n",
              "       0.02202019, 0.01073519, 0.01059947, 0.01020569, 0.0081974 ,\n",
              "       0.00668944, 0.00641159, 0.00619386, 0.00591623, 0.00558235,\n",
              "       0.00508963, 0.00508565, 0.0048113 , 0.00478493, 0.00457015,\n",
              "       0.004111  , 0.00382394, 0.00368912, 0.00354814, 0.00346476,\n",
              "       0.0034471 , 0.00334011, 0.00325708, 0.00324116, 0.00323941,\n",
              "       0.00292592, 0.00289382, 0.00288355, 0.00260566, 0.00251572,\n",
              "       0.00230902, 0.00223579, 0.0022005 , 0.00210794, 0.00205514,\n",
              "       0.0020493 , 0.00198546, 0.00196608, 0.00191211, 0.00189232,\n",
              "       0.00187151, 0.0018482 , 0.00180841, 0.00176679, 0.0017521 ,\n",
              "       0.00173644, 0.00167062, 0.00166534, 0.00166438, 0.00164708,\n",
              "       0.00163868, 0.00159589, 0.00156161, 0.00154899, 0.00154887,\n",
              "       0.00154321, 0.00153896, 0.00151559, 0.00151147, 0.00148226,\n",
              "       0.00147068, 0.00144815, 0.00140754, 0.00140459, 0.00139091,\n",
              "       0.00131596, 0.00130134, 0.00129617, 0.00129524, 0.00128996,\n",
              "       0.00128433, 0.00128186, 0.00127789, 0.00126185, 0.00126143,\n",
              "       0.00125037, 0.00124382, 0.0012385 , 0.00123365, 0.00122619,\n",
              "       0.00121841, 0.00119585, 0.00116791, 0.00116453, 0.00115038,\n",
              "       0.0011435 , 0.00113897, 0.00113667, 0.00113281, 0.00113051,\n",
              "       0.00113002, 0.00112906, 0.0011285 , 0.00112835, 0.0011033 ])"
            ]
          },
          "execution_count": 6,
          "metadata": {},
          "output_type": "execute_result"
        }
      ],
      "source": [
        "(frequencies/sum(frequencies))[:100]"
      ]
    },
    {
      "cell_type": "code",
      "execution_count": null,
      "id": "ef48632f",
      "metadata": {
        "id": "ef48632f",
        "outputId": "f6f87161-dff2-4908-943b-178064de579e"
      },
      "outputs": [
        {
          "data": {
            "text/plain": [
              "0.4399200216452588"
            ]
          },
          "execution_count": 7,
          "metadata": {},
          "output_type": "execute_result"
        }
      ],
      "source": [
        "sum((frequencies/sum(frequencies))[:100])"
      ]
    },
    {
      "cell_type": "code",
      "execution_count": null,
      "id": "b7be08cd",
      "metadata": {
        "id": "b7be08cd",
        "outputId": "df5fc599-4e8f-4618-ddcf-ff73929c1089"
      },
      "outputs": [
        {
          "data": {
            "text/plain": [
              "0.010209933120449106"
            ]
          },
          "execution_count": 8,
          "metadata": {},
          "output_type": "execute_result"
        }
      ],
      "source": [
        "sum((frequencies/sum(frequencies))[-1:-1000000:-1])"
      ]
    },
    {
      "cell_type": "code",
      "execution_count": null,
      "id": "a8a26ff0",
      "metadata": {
        "id": "a8a26ff0"
      },
      "outputs": [],
      "source": [
        "## It is evident that even just the first 100 words account for more than 40 percent of the corpus, while the last 10 lakh words only contribute to 1 percent.\n",
        "## So, the frequency distrubution is heavily left skewed with a long tail on the left\n",
        "## Hence, we remove the long tail to get a smaller vocabulary\n",
        "\n",
        "vocab_15k = np.array([list(vocab_freq.keys())[:15000],list(vocab_freq.values())[:15000]]).T"
      ]
    },
    {
      "cell_type": "code",
      "execution_count": null,
      "id": "00bc5e88",
      "metadata": {
        "id": "00bc5e88"
      },
      "outputs": [],
      "source": [
        "vocab_14k = np.array([w for w in vocab_15k if not w[0] in all_stopwords and len(w[0])>2])"
      ]
    },
    {
      "cell_type": "code",
      "execution_count": null,
      "id": "88520fb3",
      "metadata": {
        "id": "88520fb3",
        "outputId": "04b35701-e08f-4324-8364-d8782cdcb43a"
      },
      "outputs": [
        {
          "data": {
            "text/plain": [
              "14310"
            ]
          },
          "execution_count": 20,
          "metadata": {},
          "output_type": "execute_result"
        }
      ],
      "source": [
        "len(vocab_14k)"
      ]
    },
    {
      "cell_type": "code",
      "execution_count": null,
      "id": "be7afb94",
      "metadata": {
        "id": "be7afb94",
        "outputId": "bf1807b0-6c9e-432a-de7a-e7b088aff2c0"
      },
      "outputs": [
        {
          "data": {
            "text/plain": [
              "array(['thi', 'use', 'patient', 'cell', 'infect', 'studi', 'also', 'may',\n",
              "       'diseas', 'result'], dtype='<U31')"
            ]
          },
          "execution_count": 21,
          "metadata": {},
          "output_type": "execute_result"
        }
      ],
      "source": [
        "vocab_14k.T[0][:10]"
      ]
    },
    {
      "cell_type": "code",
      "execution_count": null,
      "id": "a876a3b5",
      "metadata": {
        "id": "a876a3b5"
      },
      "outputs": [],
      "source": [
        "## Creating a dictionary with numbered indices for each word\n",
        "\n",
        "vocab_idx = {}\n",
        "for idx, word in enumerate(vocab_14k.T[0]):\n",
        "    vocab_idx[word] = idx"
      ]
    },
    {
      "cell_type": "code",
      "execution_count": null,
      "id": "d02d0f26",
      "metadata": {
        "id": "d02d0f26",
        "outputId": "e1a20c67-f8c3-4579-e91b-bd62cd3a71cd"
      },
      "outputs": [
        {
          "data": {
            "text/plain": [
              "[('thi', 0),\n",
              " ('use', 1),\n",
              " ('patient', 2),\n",
              " ('cell', 3),\n",
              " ('infect', 4),\n",
              " ('studi', 5),\n",
              " ('also', 6),\n",
              " ('may', 7),\n",
              " ('diseas', 8),\n",
              " ('result', 9)]"
            ]
          },
          "execution_count": 23,
          "metadata": {},
          "output_type": "execute_result"
        }
      ],
      "source": [
        "list(vocab_idx.items())[:10]"
      ]
    },
    {
      "cell_type": "code",
      "execution_count": null,
      "id": "d83fc90b",
      "metadata": {
        "id": "d83fc90b"
      },
      "outputs": [],
      "source": [
        "## Creating a h5py file to save the co occurence matrix\n",
        "\n",
        "f = h5py.File('halmatrix.hdf5', 'w')\n",
        "hal_l2rm = f.create_dataset('L2R',(len(vocab_idx), len(vocab_idx)),dtype=np.int16)\n",
        "hal_r2lm = f.create_dataset('R2L',(len(vocab_idx), len(vocab_idx)),dtype=np.int16)"
      ]
    },
    {
      "cell_type": "code",
      "execution_count": null,
      "id": "0358017f",
      "metadata": {
        "id": "0358017f",
        "outputId": "86b1913a-afea-4b5c-e5d7-58a8c294394c"
      },
      "outputs": [
        {
          "name": "stdout",
          "output_type": "stream",
          "text": [
            "CPU times: total: 34.6 s\n",
            "Wall time: 56 s\n"
          ]
        }
      ],
      "source": [
        "%%time\n",
        "all_words_clean = pickle.load(open('all_words_clean','rb'))"
      ]
    },
    {
      "cell_type": "code",
      "execution_count": null,
      "id": "86be61f0",
      "metadata": {
        "id": "86be61f0",
        "outputId": "7d0765c8-c8c8-4417-e22b-e3fe68bd526b"
      },
      "outputs": [
        {
          "name": "stdout",
          "output_type": "stream",
          "text": [
            "CPU times: total: 4h 14min 16s\n",
            "Wall time: 4h 19min 5s\n"
          ]
        }
      ],
      "source": [
        "## Creating the HAL co occurence matrix\n",
        "## Using nltk.ngrams to create windows of 11\n",
        "## Updating the datasets made in the previous step to the appropriate co occurence values\n",
        "\n",
        "%%time\n",
        "grams11 = ngrams(all_words_clean, n=11, pad_left=False, pad_right=False)\n",
        "\n",
        "ramp = [0, 10, 9, 8, 7, 6, 5, 4, 3, 2, 1]\n",
        "\n",
        "for index, grams in enumerate(grams11):\n",
        "    reversed_grams = grams[::-1]\n",
        "\n",
        "    #creating left to right HAL matrix\n",
        "    for idx, gram in enumerate(grams):\n",
        "        try:\n",
        "            hal_l2rm[vocab_idx[grams[0]], vocab_idx[grams[idx]]] += ramp[idx]\n",
        "        except:\n",
        "             continue\n",
        "\n",
        "    #creating right to left HAL matrix\n",
        "    for idx, gram in enumerate(reversed_grams):\n",
        "        try:\n",
        "            hal_r2lm[vocab_idx[grams[0]], vocab_idx[grams[idx]]] += ramp [idx]\n",
        "        except:\n",
        "            continue"
      ]
    },
    {
      "cell_type": "code",
      "execution_count": null,
      "id": "f394126b",
      "metadata": {
        "id": "f394126b"
      },
      "outputs": [],
      "source": [
        "f.close()"
      ]
    },
    {
      "cell_type": "code",
      "execution_count": null,
      "id": "73efa1e7",
      "metadata": {
        "id": "73efa1e7"
      },
      "outputs": [],
      "source": [
        "f = h5py.File('halmatrix.hdf5', 'r')"
      ]
    },
    {
      "cell_type": "code",
      "execution_count": null,
      "id": "56436d5e",
      "metadata": {
        "id": "56436d5e",
        "outputId": "5c51e251-d1d2-4205-bffc-e5ad6c548532",
        "colab": {
          "base_uri": "https://localhost:8080/"
        }
      },
      "outputs": [
        {
          "output_type": "execute_result",
          "data": {
            "text/plain": [
              "['L2R', 'R2L']"
            ]
          },
          "metadata": {},
          "execution_count": 13
        }
      ],
      "source": [
        "list(f.keys())"
      ]
    },
    {
      "cell_type": "code",
      "execution_count": null,
      "id": "18f81d9b",
      "metadata": {
        "id": "18f81d9b"
      },
      "outputs": [],
      "source": [
        "## Creating the full HAL matrix by concatenating the left-to-right and right-to-left word vectors\n",
        "\n",
        "full_hal_matrix = np.concatenate((f['L2R'][:].T,f['R2L'][:]), axis=1)"
      ]
    },
    {
      "cell_type": "code",
      "execution_count": null,
      "id": "c15cb861",
      "metadata": {
        "id": "c15cb861",
        "outputId": "2375d3a6-4f3c-4c27-8f82-7661b576f74e",
        "colab": {
          "base_uri": "https://localhost:8080/"
        }
      },
      "outputs": [
        {
          "output_type": "execute_result",
          "data": {
            "text/plain": [
              "(14310, 28620)"
            ]
          },
          "metadata": {},
          "execution_count": 17
        }
      ],
      "source": [
        "full_hal_matrix.shape"
      ]
    },
    {
      "cell_type": "code",
      "execution_count": null,
      "id": "499310a6",
      "metadata": {
        "id": "499310a6"
      },
      "outputs": [],
      "source": [
        "## Normalizing the values for proper computation of similarity\n",
        "\n",
        "normed_hal_matrix = normalize(full_hal_matrix, axis=1, norm='l1')"
      ]
    },
    {
      "cell_type": "code",
      "execution_count": null,
      "id": "91b7601e",
      "metadata": {
        "id": "91b7601e"
      },
      "outputs": [],
      "source": [
        "## As given in the HAL paper, 100-200 element word vectors are enough to capture the essence of word vectors\n",
        "## So, applying SVD to get 200 length word vectors\n",
        "\n",
        "svd = TruncatedSVD(n_components = 200)\n",
        "red_hal_matrix = svd.fit_transform(normed_hal_matrix)"
      ]
    },
    {
      "cell_type": "code",
      "execution_count": null,
      "id": "8320af63",
      "metadata": {
        "id": "8320af63"
      },
      "outputs": [],
      "source": [
        "## Finding similar words to a given word using Euclidean distance\n",
        "## np.linalg.norm is used to calculate the distance between two vectors\n",
        "## Returns the top 10 similar words\n",
        "\n",
        "def similar_words(w):\n",
        "    word_dist_dict = {}\n",
        "    w_index = vocab_idx[w]\n",
        "    w_vec = np.array(list(red_hal_matrix[w_index,:]))\n",
        "    for word in vocab_idx.keys():\n",
        "        t_index = vocab_idx[word]\n",
        "        t_vec = np.array(list(red_hal_matrix[t_index,:]))\n",
        "        euc_dist = np.linalg.norm(w_vec-t_vec)\n",
        "        word_dist_dict[word] = euc_dist\n",
        "    del(word_dist_dict[w])\n",
        "    return dict(sorted(word_dist_dict.items(),key= lambda x:x[1], reverse=False))"
      ]
    },
    {
      "cell_type": "code",
      "execution_count": null,
      "metadata": {
        "id": "a398c1ba",
        "colab": {
          "base_uri": "https://localhost:8080/"
        },
        "outputId": "f430a0d0-2a1d-4fed-bb47-f57c05f3a55a"
      },
      "outputs": [
        {
          "output_type": "execute_result",
          "data": {
            "text/plain": [
              "['minimum',\n",
              " 'plasmid',\n",
              " 'scan',\n",
              " 'graph',\n",
              " 'inactiv',\n",
              " 'assist',\n",
              " 'tree',\n",
              " 'innat',\n",
              " 'bed',\n",
              " 'admit']"
            ]
          },
          "metadata": {},
          "execution_count": 25
        }
      ],
      "source": [
        "## As analyzed earlier, this range of frequency is the middle of the distribution\n",
        "## Taking target words from the mid-range frequency words as mentioned in the paper\n",
        "\n",
        "random.seed(42)\n",
        "sample_words = [vocab_14k.T[0][r] for r in random.sample(range(1000,1500), 10)]\n",
        "sample_words"
      ],
      "id": "a398c1ba"
    },
    {
      "cell_type": "code",
      "execution_count": null,
      "metadata": {
        "id": "94fad7ec"
      },
      "outputs": [],
      "source": [
        "## Selecting nouns from the random sample\n",
        "\n",
        "nouns = ['scan','tree','bed','graph']"
      ],
      "id": "94fad7ec"
    },
    {
      "cell_type": "code",
      "source": [
        "## Further reducing the dimension of the word vectors for visualization\n",
        "## Showing all 4 words in a single graph is difficult, so 4 separate graphs are made\n",
        "\n",
        "tsne = TSNE(n_components=2)\n",
        "hal_matrix_2d = tsne.fit_transform(red_hal_matrix)"
      ],
      "metadata": {
        "id": "4F_DP4QazBr-"
      },
      "execution_count": null,
      "outputs": [],
      "id": "4F_DP4QazBr-"
    },
    {
      "cell_type": "code",
      "execution_count": null,
      "metadata": {
        "id": "2c7842c0"
      },
      "outputs": [],
      "source": [
        "## Plotting the similar words\n",
        "## Target word is shown in BLUE with the similar words in GREEN with appropriate annotations\n",
        "## The distance and coordinates is a representation of the higher dimensional word vectors in 2d\n",
        "\n",
        "def plot_similar_words(words):\n",
        "    plt.figure(figsize=(10,10))\n",
        "    for w in words[:10]:\n",
        "        w_idx = vocab_idx[w]\n",
        "        plt.scatter(hal_matrix_2d[w_idx,0], hal_matrix_2d[w_idx,1], c=\"green\", edgecolor=\"black\", marker=\".\", s=77)\n",
        "        plt.text(hal_matrix_2d[w_idx,0]+0.2, hal_matrix_2d[w_idx,1]+0.1, s=w, c=\"black\")\n",
        "    sample_word = words[-1]\n",
        "    sw_idx = vocab_idx[sample_word]\n",
        "    plt.scatter(hal_matrix_2d[sw_idx,0], hal_matrix_2d[sw_idx,1], c=\"blue\", edgecolor=\"black\", marker=\"o\", s=77)\n",
        "    plt.text(hal_matrix_2d[sw_idx,0]+0.2, hal_matrix_2d[sw_idx,1]+0.1, s=sample_word, c=\"black\")\n",
        "    plt.grid(True)\n",
        "    return plt.show()"
      ],
      "id": "2c7842c0"
    },
    {
      "cell_type": "code",
      "execution_count": null,
      "metadata": {
        "id": "8c7a88ab",
        "colab": {
          "base_uri": "https://localhost:8080/",
          "height": 1000
        },
        "outputId": "9b95fbaf-7dc8-4711-97e3-eb0d46dd8b9d"
      },
      "outputs": [
        {
          "output_type": "stream",
          "name": "stdout",
          "text": [
            "Sample Word:  scan\n",
            "Similar Words with Euclidean distance: \n",
            "('imag', 0.00999640561113528)\n",
            "('ultrasound', 0.010768378352208613)\n",
            "('mri', 0.012931573782461203)\n",
            "('cmr', 0.013748111479194653)\n",
            "('ultrasonographi', 0.014016858091876536)\n",
            "('ceu', 0.0143346274000206)\n",
            "('mra', 0.014879938210499044)\n",
            "('ffdg', 0.014953473150102045)\n",
            "('echocardiographi', 0.015031051682834909)\n",
            "('sonograph', 0.015416087372328762)\n"
          ]
        },
        {
          "output_type": "display_data",
          "data": {
            "text/plain": [
              "<Figure size 720x720 with 1 Axes>"
            ],
            "image/png": "[encoded data removed]"
          },
          "metadata": {
            "needs_background": "light"
          }
        },
        {
          "output_type": "stream",
          "name": "stdout",
          "text": [
            "\n",
            "Sample Word:  tree\n",
            "Similar Words with Euclidean distance: \n",
            "('phylogeni', 0.012004396444403858)\n",
            "('matric', 0.015616210251733518)\n",
            "('map', 0.01653191361739579)\n",
            "('construct', 0.016540153598845305)\n",
            "('infer', 0.01710962715998523)\n",
            "('descriptor', 0.0171178960893887)\n",
            "('bin', 0.017299108885978964)\n",
            "('centroid', 0.017369626205833707)\n",
            "('kmer', 0.017422667470199417)\n",
            "('reconstruct', 0.017526288474070204)\n"
          ]
        },
        {
          "output_type": "display_data",
          "data": {
            "text/plain": [
              "<Figure size 720x720 with 1 Axes>"
            ],
            "image/png": "[encoded data removed]"
          },
          "metadata": {
            "needs_background": "light"
          }
        },
        {
          "output_type": "stream",
          "name": "stdout",
          "text": [
            "\n",
            "Sample Word:  bed\n",
            "Similar Words with Euclidean distance: \n",
            "('referr', 0.017116917222672952)\n",
            "('ward', 0.017130112865415912)\n",
            "('inpati', 0.017313796032656346)\n",
            "('overflow', 0.01907844133574297)\n",
            "('ambul', 0.02017670386499371)\n",
            "('hospit', 0.020600856763635055)\n",
            "('stay', 0.021342096141339906)\n",
            "('neurosurgeri', 0.021629226181874652)\n",
            "('nicu', 0.02211772277810877)\n",
            "('theater', 0.0221529921912905)\n"
          ]
        },
        {
          "output_type": "display_data",
          "data": {
            "text/plain": [
              "<Figure size 720x720 with 1 Axes>"
            ],
            "image/png": "[encoded data removed]"
          },
          "metadata": {
            "needs_background": "light"
          }
        },
        {
          "output_type": "stream",
          "name": "stdout",
          "text": [
            "\n",
            "Sample Word:  graph\n",
            "Similar Words with Euclidean distance: \n",
            "('represent', 0.010959802015650747)\n",
            "('subgraph', 0.01168294428051692)\n",
            "('path', 0.012767200671429878)\n",
            "('partit', 0.012768205063052094)\n",
            "('configur', 0.012791926057625467)\n",
            "('subspac', 0.013237220116330857)\n",
            "('sketch', 0.01376357949393016)\n",
            "('edg', 0.013934576529502885)\n",
            "('semant', 0.013984869234828378)\n",
            "('architectur', 0.01406405516724743)\n"
          ]
        },
        {
          "output_type": "display_data",
          "data": {
            "text/plain": [
              "<Figure size 720x720 with 1 Axes>"
            ],
            "image/png": "[encoded data removed]"
          },
          "metadata": {
            "needs_background": "light"
          }
        },
        {
          "output_type": "stream",
          "name": "stdout",
          "text": [
            "\n"
          ]
        }
      ],
      "source": [
        "## Showing similar words and the plots for each of the 4 nouns\n",
        "## (Scroll the output to see all 4 results)\n",
        "\n",
        "for words in nouns:\n",
        "    print(\"Sample Word: \",words)\n",
        "    print(\"Similar Words with Euclidean distance: \")\n",
        "    print(*list(similar_words(words).items())[:10],sep=\"\\n\")\n",
        "    plot_similar_words(list(similar_words(words).keys())[:10] + [words])\n",
        "    print()"
      ],
      "id": "8c7a88ab"
    },
    {
      "cell_type": "code",
      "execution_count": null,
      "metadata": {
        "id": "3ad58173"
      },
      "outputs": [],
      "source": [],
      "id": "3ad58173"
    }
  ],
  "metadata": {
    "kernelspec": {
      "display_name": "Python 3 (ipykernel)",
      "language": "python",
      "name": "python3"
    },
    "language_info": {
      "codemirror_mode": {
        "name": "ipython",
        "version": 3
      },
      "file_extension": ".py",
      "mimetype": "text/x-python",
      "name": "python",
      "nbconvert_exporter": "python",
      "pygments_lexer": "ipython3",
      "version": "3.9.12"
    },
    "colab": {
      "provenance": []
    }
  },
  "nbformat": 4,
  "nbformat_minor": 5
}