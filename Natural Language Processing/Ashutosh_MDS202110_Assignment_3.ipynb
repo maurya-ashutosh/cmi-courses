{
  "cells": [
    {
      "cell_type": "markdown",
      "metadata": {
        "id": "lEK9HIbXkQL9"
      },
      "source": [
        "# Assignment 3\n",
        "## Ashutosh Maurya\n",
        "## MDS202110"
      ]
    },
    {
      "cell_type": "code",
      "execution_count": null,
      "metadata": {
        "colab": {
          "base_uri": "https://localhost:8080/",
          "height": 328
        },
        "id": "VtM1mhwgXCue",
        "outputId": "f7e733cb-7049-4039-a6a4-33299b7b19aa"
      },
      "outputs": [
        {
          "output_type": "error",
          "ename": "MessageError",
          "evalue": "ignored",
          "traceback": [
            "\u001b[0;31m---------------------------------------------------------------------------\u001b[0m",
            "\u001b[0;31mMessageError\u001b[0m                              Traceback (most recent call last)",
            "\u001b[0;32m<ipython-input-2-d5df0069828e>\u001b[0m in \u001b[0;36m<cell line: 2>\u001b[0;34m()\u001b[0m\n\u001b[1;32m      1\u001b[0m \u001b[0;32mfrom\u001b[0m \u001b[0mgoogle\u001b[0m\u001b[0;34m.\u001b[0m\u001b[0mcolab\u001b[0m \u001b[0;32mimport\u001b[0m \u001b[0mdrive\u001b[0m\u001b[0;34m\u001b[0m\u001b[0;34m\u001b[0m\u001b[0m\n\u001b[0;32m----> 2\u001b[0;31m \u001b[0mdrive\u001b[0m\u001b[0;34m.\u001b[0m\u001b[0mmount\u001b[0m\u001b[0;34m(\u001b[0m\u001b[0;34m'/content/drive'\u001b[0m\u001b[0;34m)\u001b[0m\u001b[0;34m\u001b[0m\u001b[0;34m\u001b[0m\u001b[0m\n\u001b[0m",
            "\u001b[0;32m/usr/local/lib/python3.9/dist-packages/google/colab/drive.py\u001b[0m in \u001b[0;36mmount\u001b[0;34m(mountpoint, force_remount, timeout_ms, readonly)\u001b[0m\n\u001b[1;32m    101\u001b[0m \u001b[0;32mdef\u001b[0m \u001b[0mmount\u001b[0m\u001b[0;34m(\u001b[0m\u001b[0mmountpoint\u001b[0m\u001b[0;34m,\u001b[0m \u001b[0mforce_remount\u001b[0m\u001b[0;34m=\u001b[0m\u001b[0;32mFalse\u001b[0m\u001b[0;34m,\u001b[0m \u001b[0mtimeout_ms\u001b[0m\u001b[0;34m=\u001b[0m\u001b[0;36m120000\u001b[0m\u001b[0;34m,\u001b[0m \u001b[0mreadonly\u001b[0m\u001b[0;34m=\u001b[0m\u001b[0;32mFalse\u001b[0m\u001b[0;34m)\u001b[0m\u001b[0;34m:\u001b[0m\u001b[0;34m\u001b[0m\u001b[0;34m\u001b[0m\u001b[0m\n\u001b[1;32m    102\u001b[0m   \u001b[0;34m\"\"\"Mount your Google Drive at the specified mountpoint path.\"\"\"\u001b[0m\u001b[0;34m\u001b[0m\u001b[0;34m\u001b[0m\u001b[0m\n\u001b[0;32m--> 103\u001b[0;31m   return _mount(\n\u001b[0m\u001b[1;32m    104\u001b[0m       \u001b[0mmountpoint\u001b[0m\u001b[0;34m,\u001b[0m\u001b[0;34m\u001b[0m\u001b[0;34m\u001b[0m\u001b[0m\n\u001b[1;32m    105\u001b[0m       \u001b[0mforce_remount\u001b[0m\u001b[0;34m=\u001b[0m\u001b[0mforce_remount\u001b[0m\u001b[0;34m,\u001b[0m\u001b[0;34m\u001b[0m\u001b[0;34m\u001b[0m\u001b[0m\n",
            "\u001b[0;32m/usr/local/lib/python3.9/dist-packages/google/colab/drive.py\u001b[0m in \u001b[0;36m_mount\u001b[0;34m(mountpoint, force_remount, timeout_ms, ephemeral, readonly)\u001b[0m\n\u001b[1;32m    130\u001b[0m   )\n\u001b[1;32m    131\u001b[0m   \u001b[0;32mif\u001b[0m \u001b[0mephemeral\u001b[0m\u001b[0;34m:\u001b[0m\u001b[0;34m\u001b[0m\u001b[0;34m\u001b[0m\u001b[0m\n\u001b[0;32m--> 132\u001b[0;31m     _message.blocking_request(\n\u001b[0m\u001b[1;32m    133\u001b[0m         \u001b[0;34m'request_auth'\u001b[0m\u001b[0;34m,\u001b[0m \u001b[0mrequest\u001b[0m\u001b[0;34m=\u001b[0m\u001b[0;34m{\u001b[0m\u001b[0;34m'authType'\u001b[0m\u001b[0;34m:\u001b[0m \u001b[0;34m'dfs_ephemeral'\u001b[0m\u001b[0;34m}\u001b[0m\u001b[0;34m,\u001b[0m \u001b[0mtimeout_sec\u001b[0m\u001b[0;34m=\u001b[0m\u001b[0;32mNone\u001b[0m\u001b[0;34m\u001b[0m\u001b[0;34m\u001b[0m\u001b[0m\n\u001b[1;32m    134\u001b[0m     )\n",
            "\u001b[0;32m/usr/local/lib/python3.9/dist-packages/google/colab/_message.py\u001b[0m in \u001b[0;36mblocking_request\u001b[0;34m(request_type, request, timeout_sec, parent)\u001b[0m\n\u001b[1;32m    174\u001b[0m       \u001b[0mrequest_type\u001b[0m\u001b[0;34m,\u001b[0m \u001b[0mrequest\u001b[0m\u001b[0;34m,\u001b[0m \u001b[0mparent\u001b[0m\u001b[0;34m=\u001b[0m\u001b[0mparent\u001b[0m\u001b[0;34m,\u001b[0m \u001b[0mexpect_reply\u001b[0m\u001b[0;34m=\u001b[0m\u001b[0;32mTrue\u001b[0m\u001b[0;34m\u001b[0m\u001b[0;34m\u001b[0m\u001b[0m\n\u001b[1;32m    175\u001b[0m   )\n\u001b[0;32m--> 176\u001b[0;31m   \u001b[0;32mreturn\u001b[0m \u001b[0mread_reply_from_input\u001b[0m\u001b[0;34m(\u001b[0m\u001b[0mrequest_id\u001b[0m\u001b[0;34m,\u001b[0m \u001b[0mtimeout_sec\u001b[0m\u001b[0;34m)\u001b[0m\u001b[0;34m\u001b[0m\u001b[0;34m\u001b[0m\u001b[0m\n\u001b[0m",
            "\u001b[0;32m/usr/local/lib/python3.9/dist-packages/google/colab/_message.py\u001b[0m in \u001b[0;36mread_reply_from_input\u001b[0;34m(message_id, timeout_sec)\u001b[0m\n\u001b[1;32m    101\u001b[0m     ):\n\u001b[1;32m    102\u001b[0m       \u001b[0;32mif\u001b[0m \u001b[0;34m'error'\u001b[0m \u001b[0;32min\u001b[0m \u001b[0mreply\u001b[0m\u001b[0;34m:\u001b[0m\u001b[0;34m\u001b[0m\u001b[0;34m\u001b[0m\u001b[0m\n\u001b[0;32m--> 103\u001b[0;31m         \u001b[0;32mraise\u001b[0m \u001b[0mMessageError\u001b[0m\u001b[0;34m(\u001b[0m\u001b[0mreply\u001b[0m\u001b[0;34m[\u001b[0m\u001b[0;34m'error'\u001b[0m\u001b[0;34m]\u001b[0m\u001b[0;34m)\u001b[0m\u001b[0;34m\u001b[0m\u001b[0;34m\u001b[0m\u001b[0m\n\u001b[0m\u001b[1;32m    104\u001b[0m       \u001b[0;32mreturn\u001b[0m \u001b[0mreply\u001b[0m\u001b[0;34m.\u001b[0m\u001b[0mget\u001b[0m\u001b[0;34m(\u001b[0m\u001b[0;34m'data'\u001b[0m\u001b[0;34m,\u001b[0m \u001b[0;32mNone\u001b[0m\u001b[0;34m)\u001b[0m\u001b[0;34m\u001b[0m\u001b[0;34m\u001b[0m\u001b[0m\n\u001b[1;32m    105\u001b[0m \u001b[0;34m\u001b[0m\u001b[0m\n",
            "\u001b[0;31mMessageError\u001b[0m: Error: credential propagation was unsuccessful"
          ]
        }
      ],
      "source": [
        "from google.colab import drive\n",
        "drive.mount('/content/drive')"
      ]
    },
    {
      "cell_type": "code",
      "source": [
        "!pip uninstall gdown -y && pip install gdown\n",
        "!gdown -V"
      ],
      "metadata": {
        "colab": {
          "base_uri": "https://localhost:8080/"
        },
        "id": "LWCcbSGjwN9P",
        "outputId": "0b34f70e-8c77-4ecd-98a4-ce67c0926430"
      },
      "execution_count": null,
      "outputs": [
        {
          "output_type": "stream",
          "name": "stdout",
          "text": [
            "Found existing installation: gdown 4.6.6\n",
            "Uninstalling gdown-4.6.6:\n",
            "  Successfully uninstalled gdown-4.6.6\n",
            "Looking in indexes: https://pypi.org/simple, https://us-python.pkg.dev/colab-wheels/public/simple/\n",
            "Collecting gdown\n",
            "  Downloading gdown-4.7.1-py3-none-any.whl (15 kB)\n",
            "Requirement already satisfied: filelock in /usr/local/lib/python3.9/dist-packages (from gdown) (3.11.0)\n",
            "Requirement already satisfied: requests[socks] in /usr/local/lib/python3.9/dist-packages (from gdown) (2.27.1)\n",
            "Requirement already satisfied: six in /usr/local/lib/python3.9/dist-packages (from gdown) (1.16.0)\n",
            "Requirement already satisfied: tqdm in /usr/local/lib/python3.9/dist-packages (from gdown) (4.65.0)\n",
            "Requirement already satisfied: beautifulsoup4 in /usr/local/lib/python3.9/dist-packages (from gdown) (4.11.2)\n",
            "Requirement already satisfied: soupsieve>1.2 in /usr/local/lib/python3.9/dist-packages (from beautifulsoup4->gdown) (2.4.1)\n",
            "Requirement already satisfied: idna<4,>=2.5 in /usr/local/lib/python3.9/dist-packages (from requests[socks]->gdown) (3.4)\n",
            "Requirement already satisfied: charset-normalizer~=2.0.0 in /usr/local/lib/python3.9/dist-packages (from requests[socks]->gdown) (2.0.12)\n",
            "Requirement already satisfied: urllib3<1.27,>=1.21.1 in /usr/local/lib/python3.9/dist-packages (from requests[socks]->gdown) (1.26.15)\n",
            "Requirement already satisfied: certifi>=2017.4.17 in /usr/local/lib/python3.9/dist-packages (from requests[socks]->gdown) (2022.12.7)\n",
            "Requirement already satisfied: PySocks!=1.5.7,>=1.5.6 in /usr/local/lib/python3.9/dist-packages (from requests[socks]->gdown) (1.7.1)\n",
            "Installing collected packages: gdown\n",
            "Successfully installed gdown-4.7.1\n",
            "gdown 4.7.1 at /usr/local/lib/python3.9/dist-packages\n"
          ]
        }
      ]
    },
    {
      "cell_type": "code",
      "source": [
        "!gdown https://drive.google.com/u/0/uc?id=1PVA5IR4bAn7RulAeuSgxRBNMtmRGXaUm&export=download -O /content"
      ],
      "metadata": {
        "colab": {
          "base_uri": "https://localhost:8080/"
        },
        "id": "q5zoyhGfwRNa",
        "outputId": "9925e8b5-6b79-46d1-f784-4122ef13557b"
      },
      "execution_count": null,
      "outputs": [
        {
          "output_type": "stream",
          "name": "stdout",
          "text": [
            "/bin/bash: -O: command not found\n",
            "Downloading...\n",
            "From (uriginal): https://drive.google.com/u/0/uc?id=1PVA5IR4bAn7RulAeuSgxRBNMtmRGXaUm\n",
            "From (redirected): https://drive.google.com/uc?id=1PVA5IR4bAn7RulAeuSgxRBNMtmRGXaUm&confirm=t&uuid=e4d3be06-ed88-48ae-9336-601c2839640e\n",
            "To: /content/pdf_json.zip\n",
            "100% 1.00G/1.00G [00:09<00:00, 101MB/s]\n"
          ]
        }
      ]
    },
    {
      "cell_type": "markdown",
      "metadata": {
        "id": "9GlHSaQLkMz7"
      },
      "source": [
        "# Importing Required Libraries"
      ]
    },
    {
      "cell_type": "code",
      "source": [
        "!pip install contractions"
      ],
      "metadata": {
        "id": "wwbLViakw8Z9",
        "colab": {
          "base_uri": "https://localhost:8080/"
        },
        "outputId": "d15ce4f1-9ca0-436a-b352-34ed4234a1cd"
      },
      "execution_count": null,
      "outputs": [
        {
          "output_type": "stream",
          "name": "stdout",
          "text": [
            "Looking in indexes: https://pypi.org/simple, https://us-python.pkg.dev/colab-wheels/public/simple/\n",
            "Collecting contractions\n",
            "  Downloading contractions-0.1.73-py2.py3-none-any.whl (8.7 kB)\n",
            "Collecting textsearch>=0.0.21\n",
            "  Downloading textsearch-0.0.24-py2.py3-none-any.whl (7.6 kB)\n",
            "Collecting anyascii\n",
            "  Downloading anyascii-0.3.2-py3-none-any.whl (289 kB)\n",
            "\u001b[2K     \u001b[90m━━━━━━━━━━━━━━━━━━━━━━━━━━━━━━━━━━━━━━━\u001b[0m \u001b[32m289.9/289.9 kB\u001b[0m \u001b[31m7.2 MB/s\u001b[0m eta \u001b[36m0:00:00\u001b[0m\n",
            "\u001b[?25hCollecting pyahocorasick\n",
            "  Downloading pyahocorasick-2.0.0-cp39-cp39-manylinux_2_5_x86_64.manylinux1_x86_64.whl (103 kB)\n",
            "\u001b[2K     \u001b[90m━━━━━━━━━━━━━━━━━━━━━━━━━━━━━━━━━━━━━━\u001b[0m \u001b[32m103.2/103.2 kB\u001b[0m \u001b[31m10.2 MB/s\u001b[0m eta \u001b[36m0:00:00\u001b[0m\n",
            "\u001b[?25hInstalling collected packages: pyahocorasick, anyascii, textsearch, contractions\n",
            "Successfully installed anyascii-0.3.2 contractions-0.1.73 pyahocorasick-2.0.0 textsearch-0.0.24\n"
          ]
        }
      ]
    },
    {
      "cell_type": "code",
      "execution_count": null,
      "metadata": {
        "id": "B24NSD4uXRp6"
      },
      "outputs": [],
      "source": [
        "# !pip install contractions\n",
        "# !pip install pyspellchecker\n",
        "import os,re,json,nltk,zipfile\n",
        "import contractions,string\n",
        "from collections import Counter\n",
        "import joblib\n",
        "# from spellchecker import SpellChecker\n",
        "# spell = SpellChecker()\n",
        "\n",
        "import tensorflow as tf\n",
        "from keras.preprocessing.text import Tokenizer\n",
        "import numpy as np\n",
        "from keras.utils import pad_sequences, to_categorical\n",
        "from keras.models import Sequential\n",
        "from keras.layers import Embedding, GRU, Dense, Dropout,LSTM, Bidirectional\n",
        "from keras.layers import Input,RepeatVector,TimeDistributed,Flatten\n",
        "from keras.callbacks import EarlyStopping\n",
        "from keras import Model\n",
        "from numpy.random import seed\n",
        "import matplotlib.pyplot as plt\n",
        "seed(1)"
      ]
    },
    {
      "cell_type": "markdown",
      "metadata": {
        "id": "0NDs2mugYEBF"
      },
      "source": [
        "# Creating Corpus"
      ]
    },
    {
      "cell_type": "markdown",
      "metadata": {
        "id": "IzYLj-rOkfMT"
      },
      "source": [
        "Extracting the abstract from each paper and compliling as corpus"
      ]
    },
    {
      "cell_type": "code",
      "execution_count": null,
      "metadata": {
        "id": "DfNf3cXTXozW"
      },
      "outputs": [],
      "source": [
        "zip=zipfile.ZipFile('/content/pdf_json.zip','r')"
      ]
    },
    {
      "cell_type": "markdown",
      "source": [],
      "metadata": {
        "id": "_7ZzgZDwx1_h"
      }
    },
    {
      "cell_type": "code",
      "execution_count": null,
      "metadata": {
        "id": "LHgxUVjBYR_v"
      },
      "outputs": [],
      "source": [
        "def extract_text(filename):\n",
        "  file = zip.open(filename)\n",
        "  paper_content = json.load(file)\n",
        "  abstract = \"\"\n",
        "  if 'abstract' in paper_content:\n",
        "    for abs in paper_content['abstract']:\n",
        "      abstract = abstract + abs['text']\n",
        "  return (abstract + '\\n').lower()"
      ]
    },
    {
      "cell_type": "code",
      "execution_count": null,
      "metadata": {
        "id": "S3AKUgaGYHxj",
        "colab": {
          "base_uri": "https://localhost:8080/"
        },
        "outputId": "3686f05e-99e8-4268-c5c9-4079087da51c"
      },
      "outputs": [
        {
          "output_type": "stream",
          "name": "stdout",
          "text": [
            "CPU times: user 1min 6s, sys: 2.31 s, total: 1min 8s\n",
            "Wall time: 1min 22s\n"
          ]
        }
      ],
      "source": [
        "%%time\n",
        "\n",
        "it = 0\n",
        "for i in zipfile.ZipFile.namelist(zip):\n",
        "  if i.endswith('.json') and it < 50000:\n",
        "    with open('/content/abst_corpust.txt','a') as f:\n",
        "      f.write(extract_text(i))\n",
        "    it+=1"
      ]
    },
    {
      "cell_type": "code",
      "execution_count": null,
      "metadata": {
        "colab": {
          "base_uri": "https://localhost:8080/"
        },
        "id": "1ACp4gOrYTEE",
        "outputId": "0245dabc-0c25-465d-8c10-e6bf95837047"
      },
      "outputs": [
        {
          "output_type": "execute_result",
          "data": {
            "text/plain": [
              "50000"
            ]
          },
          "metadata": {},
          "execution_count": 10
        }
      ],
      "source": [
        "# number of lines in corpus\n",
        "i=0\n",
        "with open('/content/abst_corpust.txt','r') as f:\n",
        "  for line in f:\n",
        "    i+=1\n",
        "i"
      ]
    },
    {
      "cell_type": "markdown",
      "metadata": {
        "id": "zfsvJr43Yfet"
      },
      "source": [
        "# Preprocessing"
      ]
    },
    {
      "cell_type": "markdown",
      "metadata": {
        "id": "ob3L78krkmTO"
      },
      "source": [
        "Similar to the previous assignments, we do the basic preprocessing steps, and also some additional ones because we are not sure of the performance of the model, hence proper preprocessing is vital.\n",
        "\n",
        "\n",
        "- We shall first tokenize the sentences using ```nltk.tokenize.sent_tokenize```, because we need to tag the sentences with a start and end tag.\n",
        "- We shall remove all punctuation, and any extra spaces\n",
        "- We shall removee all non-english characters\n",
        "- We shall remove all URLs and emails\n",
        "- We shall remove all digits, punctuations (except fullstop), and extra spaces\n",
        "- We shall remove all special characters\n",
        "- We shall also remove all one letter words"
      ]
    },
    {
      "cell_type": "code",
      "execution_count": null,
      "metadata": {
        "id": "ZFrWJr6rYXTT"
      },
      "outputs": [],
      "source": [
        "def preprocess(corpus):\n",
        "\n",
        "  #removing contractions\n",
        "  corpus = re.sub(r'e\\.g',\"example\",corpus)\n",
        "  corpus = re.sub(r'i\\.e\\.',\"that is\",corpus)\n",
        "  corpus = contractions.fix(corpus)\n",
        "\n",
        "  #removing non-english letters\n",
        "  corpus = corpus.encode(\"ascii\", \"ignore\").decode()\n",
        "\n",
        "  #removing url and email ids\n",
        "  corpus = re.sub(r'(http://[\\w\\s\\.\\/]*)',\"\",corpus)\n",
        "  corpus = re.sub(r'(www\\.[\\w\\s\\.\\/]*)',\"\",corpus)\n",
        "  corpus =  re.sub(re.compile(r\"\\S*@\\S*\\s?\"),'', corpus)\n",
        "\n",
        "  #removing numbers\n",
        "  corpus=re.sub(r'\\d+',\"\",corpus)\n",
        "\n",
        "  #removing brackets\n",
        "  corpus = re.sub(r'(\\()|(\\))|(\\[)|(\\])|({)|(})',\"\",corpus)\n",
        "\n",
        "  # leaving space between words and fullstop\n",
        "  corpus = re.sub(r'(\\w)(\\.)',r'\\1 \\2',corpus)\n",
        "\n",
        "  #removing punctuation\n",
        "  corpus = re.sub(r'''[\\{\\}[!?'\",:;#$%&><=*\\\\/\\+\\-\\@\\_\\~]''', ' ', corpus)\n",
        "\n",
        "  #removing single letters excpet 'a'\n",
        "  corpus = re.sub(r'\\s[b-zB-Z]\\s', ' ', corpus)\n",
        "\n",
        "  #removing misspelled words\n",
        "  # corpus_final=''\n",
        "  # for i in corpus.split():\n",
        "  #   if i in list(spell.known([i])) or i=='.':\n",
        "  #     corpus_final += i+' '\n",
        "  #   else:\n",
        "  #     continue\n",
        "\n",
        "  prep_corpus_final = ''\n",
        "  for i in corpus.split():\n",
        "    prep_corpus_final += i+' '\n",
        "\n",
        "  # corpus_final +='\\n'\n",
        "\n",
        "  return prep_corpus_final"
      ]
    },
    {
      "cell_type": "code",
      "execution_count": null,
      "metadata": {
        "id": "26EVESIsYhfM",
        "colab": {
          "base_uri": "https://localhost:8080/"
        },
        "outputId": "d1b48f4a-9405-4f92-b38c-7a4541ef6a04"
      },
      "outputs": [
        {
          "output_type": "stream",
          "name": "stdout",
          "text": [
            "CPU times: user 23 s, sys: 977 ms, total: 24 s\n",
            "Wall time: 24.1 s\n"
          ]
        }
      ],
      "source": [
        "%%time\n",
        "with open('/content/abst_corpust.txt','r') as f:\n",
        "  for line in f:\n",
        "    with open('/content/prep_abst_corpust.txt','a') as t:\n",
        "      if re.match(r'^\\s*$',line):\n",
        "        continue\n",
        "      else:\n",
        "        t.write(\"<s> \"+preprocess(line)+\" <e> \\n\")"
      ]
    },
    {
      "cell_type": "code",
      "execution_count": null,
      "metadata": {
        "colab": {
          "base_uri": "https://localhost:8080/"
        },
        "id": "ZyC3nUbHYjtZ",
        "outputId": "ae4fc4d1-e6f3-4caa-e31c-eee78eff2595"
      },
      "outputs": [
        {
          "output_type": "execute_result",
          "data": {
            "text/plain": [
              "33970"
            ]
          },
          "metadata": {},
          "execution_count": 13
        }
      ],
      "source": [
        "#number of lines in pre-processed corpus.\n",
        "#The difference between this and the number of lines in corpus is due to the fact that some papers do not have an abstract\n",
        "i=0\n",
        "with open('/content/prep_abst_corpust.txt','r') as t:\n",
        "  for line in t:\n",
        "    i+=1\n",
        "i"
      ]
    },
    {
      "cell_type": "markdown",
      "metadata": {
        "id": "_uiR3MrJYv2z"
      },
      "source": [
        "# Vocabulary, Tokenization"
      ]
    },
    {
      "cell_type": "code",
      "execution_count": null,
      "metadata": {
        "id": "u9sT1QoQYlxP",
        "colab": {
          "base_uri": "https://localhost:8080/"
        },
        "outputId": "9a6d6e29-b763-48b8-eee6-b9e820c8ed77"
      },
      "outputs": [
        {
          "output_type": "stream",
          "name": "stdout",
          "text": [
            "CPU times: user 2.08 s, sys: 507 ms, total: 2.58 s\n",
            "Wall time: 2.52 s\n"
          ]
        }
      ],
      "source": [
        "%%time\n",
        "\n",
        "# finding the number of unique words\n",
        "vocab = []\n",
        "i = 0\n",
        "with open('/content/prep_abst_corpust.txt','r') as t:\n",
        "  for line in t:\n",
        "    if i<100:\n",
        "      words = line.split()\n",
        "      for word in words:\n",
        "          vocab.append(word)\n",
        "      i =+ 1\n",
        "\n",
        "vocabulary = set(vocab)"
      ]
    },
    {
      "cell_type": "code",
      "execution_count": null,
      "metadata": {
        "colab": {
          "base_uri": "https://localhost:8080/"
        },
        "id": "1WcTpvtSY3Kf",
        "outputId": "b8c3dbc4-ecdc-4ca2-8312-87c62f592d20"
      },
      "outputs": [
        {
          "output_type": "execute_result",
          "data": {
            "text/plain": [
              "123912"
            ]
          },
          "metadata": {},
          "execution_count": 15
        }
      ],
      "source": [
        "vocab_size=len(vocabulary)\n",
        "vocab_size"
      ]
    },
    {
      "cell_type": "markdown",
      "metadata": {
        "id": "BCD6RboZmZwS"
      },
      "source": [
        "Building a tokenizer : This object assigns each word a number (or an id) proportional to the number of times it appears in the corpus. <br>\n",
        "A dictionary is built for easy access of words from their ids and vice versa."
      ]
    },
    {
      "cell_type": "code",
      "execution_count": null,
      "metadata": {
        "colab": {
          "base_uri": "https://localhost:8080/"
        },
        "id": "RbylYQnHY6aq",
        "outputId": "3de216e7-1253-420d-8258-a2319e3560e7"
      },
      "outputs": [
        {
          "output_type": "execute_result",
          "data": {
            "text/plain": [
              "123912"
            ]
          },
          "metadata": {},
          "execution_count": 16
        }
      ],
      "source": [
        "tokenizer = Tokenizer(vocab_size,filters='\\n')\n",
        "with open('/content/prep_abst_corpust.txt','r') as t:\n",
        "  tokenizer.fit_on_texts(t)\n",
        "\n",
        "word2index = tokenizer.word_index\n",
        "len(word2index)"
      ]
    },
    {
      "cell_type": "markdown",
      "metadata": {
        "id": "sJ2gkaMWZbgC"
      },
      "source": [
        "# Defining inputs and targets for the model\n",
        "For text generation, we require context in order to predict the next few words in a sentence. For this, inputs are lists of sequences of 50 words and the targets for each of them are the next 50 words.<br>\n",
        "Also, say we take the first input-target pair where input is the first 50 words and target is next 50 words (50-100). The next input-target pair consists of the previous pair's target as its input."
      ]
    },
    {
      "cell_type": "code",
      "execution_count": null,
      "metadata": {
        "id": "MudrtufaZVxq"
      },
      "outputs": [],
      "source": [
        "# functions to convert a sequence of words to their word ids (encode) and to convert intergers (or word ids) to words (decode)\n",
        "def encode(sequence):\n",
        "  lines = tokenizer.texts_to_sequences(sequence.split(' \\n'))\n",
        "  seq = sum(lines,[])\n",
        "  return seq\n",
        "\n",
        "def decode(l):\n",
        "  words=[i for j in l for i in word2index.keys() if word2index[i]==j]\n",
        "  return \" \".join(words)"
      ]
    },
    {
      "cell_type": "code",
      "execution_count": null,
      "metadata": {
        "id": "nGp0xxdkZvqh"
      },
      "outputs": [],
      "source": [
        "# it is a list of lists wherein each list represents an abstract and the words are tokenized.\n",
        "with open('/content/prep_abst_corpust.txt','r') as t:\n",
        "    input_sequences = tokenizer.texts_to_sequences(t)"
      ]
    },
    {
      "cell_type": "code",
      "execution_count": null,
      "metadata": {
        "colab": {
          "base_uri": "https://localhost:8080/"
        },
        "id": "Wk65Lk82aPUB",
        "outputId": "c413656f-b9db-4a3e-b5c0-66bb9ea2bb09"
      },
      "outputs": [
        {
          "output_type": "execute_result",
          "data": {
            "text/plain": [
              "33970"
            ]
          },
          "metadata": {},
          "execution_count": 19
        }
      ],
      "source": [
        "# matches with the number of lines in pre-processed corpus\n",
        "len(input_sequences)"
      ]
    },
    {
      "cell_type": "markdown",
      "metadata": {
        "id": "q4b7FgHjGIYz"
      },
      "source": [
        "-------------------------------"
      ]
    },
    {
      "cell_type": "code",
      "execution_count": null,
      "metadata": {
        "colab": {
          "base_uri": "https://localhost:8080/"
        },
        "id": "CEk76UXpGKPh",
        "outputId": "41beb3b6-b687-4761-a4d5-04f1ca42800c"
      },
      "outputs": [
        {
          "output_type": "execute_result",
          "data": {
            "text/plain": [
              "8011992"
            ]
          },
          "metadata": {},
          "execution_count": 20
        }
      ],
      "source": [
        "# combining all lists in input_sequences as one list\n",
        "seq=[i for line in input_sequences for i in line]\n",
        "num_words = len(seq)\n",
        "num_words"
      ]
    },
    {
      "cell_type": "code",
      "execution_count": null,
      "metadata": {
        "id": "uaQoww3-GKM7"
      },
      "outputs": [],
      "source": [
        "# appending input-target pairs as a list to a list\n",
        "data = []\n",
        "for i in range(0,num_words,50):\n",
        "  if i+100 > num_words:\n",
        "    break\n",
        "  data.append([seq[i:i+50],seq[i+50:i+100]])"
      ]
    },
    {
      "cell_type": "code",
      "execution_count": null,
      "metadata": {
        "colab": {
          "base_uri": "https://localhost:8080/"
        },
        "id": "_K2KJIfeGKKT",
        "outputId": "d639d961-0856-41d9-d3f2-e2ec7c409b86"
      },
      "outputs": [
        {
          "output_type": "stream",
          "name": "stdout",
          "text": [
            "[2090, 12696, 8, 38, 91, 66, 683, 10, 210, 2, 2298, 1, 335, 4, 119, 444, 5, 48, 245, 30, 44, 1182, 6, 36, 2, 5, 27, 2851, 6, 1103, 1, 3612, 4, 3321, 2858, 119, 11, 125, 30, 7, 154, 5, 11748, 245, 1, 6426, 436, 3, 1, 317]\n",
            "[2090, 12696, 8, 38, 91, 66, 683, 10, 210, 2, 2298, 1, 335, 4, 119, 444, 5, 48, 245, 30, 44, 1182, 6, 36, 2, 5, 27, 2851, 6, 1103, 1, 3612, 4, 3321, 2858, 119, 11, 125, 30, 7, 154, 5, 11748, 245, 1, 6426, 436, 3, 1, 317]\n"
          ]
        }
      ],
      "source": [
        "print(data[0][1])\n",
        "print(data[1][0])"
      ]
    },
    {
      "cell_type": "code",
      "execution_count": null,
      "metadata": {
        "colab": {
          "base_uri": "https://localhost:8080/"
        },
        "id": "dc8vkSkvGKHt",
        "outputId": "ca54e2bf-d31b-475a-8eb6-eb7c9173d5d9"
      },
      "outputs": [
        {
          "output_type": "stream",
          "name": "stdout",
          "text": [
            "CPU times: user 36.9 s, sys: 413 ms, total: 37.3 s\n",
            "Wall time: 42.6 s\n"
          ]
        },
        {
          "output_type": "execute_result",
          "data": {
            "text/plain": [
              "<_TensorSliceDataset element_spec=TensorSpec(shape=(2, 50), dtype=tf.int32, name=None)>"
            ]
          },
          "metadata": {},
          "execution_count": 23
        }
      ],
      "source": [
        "%%time\n",
        "\n",
        "# converting to a tensorflow Dataset object\n",
        "data = tf.data.Dataset.from_tensor_slices(data)\n",
        "data"
      ]
    },
    {
      "cell_type": "code",
      "execution_count": null,
      "metadata": {
        "colab": {
          "base_uri": "https://localhost:8080/"
        },
        "id": "SWhVxeFkIEtQ",
        "outputId": "0c68a833-dd08-4c9c-d0ab-bb4ffc398780"
      },
      "outputs": [
        {
          "output_type": "execute_result",
          "data": {
            "text/plain": [
              "<_MapDataset element_spec=(TensorSpec(shape=(50,), dtype=tf.int32, name=None), TensorSpec(shape=(50,), dtype=tf.int32, name=None))>"
            ]
          },
          "metadata": {},
          "execution_count": 24
        }
      ],
      "source": [
        "# function to split the elements in the dataset as input and target\n",
        "def split_element(x):\n",
        "    x1, x2 = tf.split(x, num_or_size_splits=2, axis=0)\n",
        "    return x1[0], x2[0]\n",
        "\n",
        "input_target=data.map(split_element)\n",
        "input_target"
      ]
    },
    {
      "cell_type": "code",
      "execution_count": null,
      "metadata": {
        "id": "tE2IWU6_GKB8"
      },
      "outputs": [],
      "source": []
    },
    {
      "cell_type": "markdown",
      "metadata": {
        "id": "RIdr0WmqGKvZ"
      },
      "source": [
        "-------------------------------------------------------"
      ]
    },
    {
      "cell_type": "code",
      "execution_count": null,
      "metadata": {
        "id": "-VTf8VLifvLk"
      },
      "outputs": [],
      "source": [
        "# for input_example, target_example in input_target.take(3):\n",
        "#   print(\"Input :\", decode(input_example.numpy()))\n",
        "#   print(\"Target:\", decode(target_example.numpy()))"
      ]
    },
    {
      "cell_type": "code",
      "execution_count": null,
      "metadata": {
        "colab": {
          "base_uri": "https://localhost:8080/"
        },
        "id": "w_AN8Z4ikiJk",
        "outputId": "8c150343-bbfd-442d-c380-afca230c3b7b"
      },
      "outputs": [
        {
          "output_type": "stream",
          "name": "stdout",
          "text": [
            "CPU times: user 9.02 ms, sys: 38 µs, total: 9.06 ms\n",
            "Wall time: 28.5 ms\n"
          ]
        },
        {
          "output_type": "execute_result",
          "data": {
            "text/plain": [
              "<_BatchDataset element_spec=(TensorSpec(shape=(32, 50), dtype=tf.int32, name=None), TensorSpec(shape=(32, 50), dtype=tf.int32, name=None))>"
            ]
          },
          "metadata": {},
          "execution_count": 26
        }
      ],
      "source": [
        "%%time\n",
        "\n",
        "# putting the data into batches to feed to the model\n",
        "batch_size = 32\n",
        "input_target = (input_target.batch(batch_size, drop_remainder=True))\n",
        "input_target"
      ]
    },
    {
      "cell_type": "markdown",
      "metadata": {
        "id": "Z2i5uqXnl_Us"
      },
      "source": [
        "# Model"
      ]
    },
    {
      "cell_type": "code",
      "execution_count": null,
      "metadata": {
        "id": "R029Spbyl3Ti"
      },
      "outputs": [],
      "source": [
        "# Length of the vocabulary\n",
        "vocab_size = len(vocabulary)\n",
        "\n",
        "# The embedding dimension\n",
        "embedding_dim = 1028\n",
        "\n",
        "# Number of LSTM units\n",
        "num_units = 256\n",
        "\n",
        "#loss function\n",
        "loss = tf.losses.SparseCategoricalCrossentropy(from_logits=True)"
      ]
    },
    {
      "cell_type": "code",
      "execution_count": null,
      "metadata": {
        "id": "FepNTPFxmEJH"
      },
      "outputs": [],
      "source": [
        "class LSTMModel(Model):\n",
        "  def __init__(self, vocab_size, embedding_dim, num_units):\n",
        "    super().__init__(self)\n",
        "    self.embedding = Embedding(vocab_size, embedding_dim)\n",
        "    self.lstm = LSTM(num_units,return_sequences=True,return_state=True,go_backwards=True)\n",
        "    self.dense = TimeDistributed(Dense(vocab_size))\n",
        "    # self.dense = Dense(vocab_size)\n",
        "\n",
        "  def call(self, inputs, state_h=None, state_c=None, return_state=False, training=False):\n",
        "    x = inputs\n",
        "    x = self.embedding(x, training=training)\n",
        "    if state_h is None:\n",
        "      state_h,state_c = self.lstm.get_initial_state(x)\n",
        "    x, state_h, state_c = self.lstm(x, initial_state=[state_h,state_c], training=training)\n",
        "\n",
        "    x = self.dense(x, training=training)\n",
        "\n",
        "    if return_state:\n",
        "      return x, state_h,state_c\n",
        "    else:\n",
        "      return x\n",
        "\n",
        "model = LSTMModel(vocab_size=vocab_size,embedding_dim=embedding_dim,num_units=num_units)"
      ]
    },
    {
      "cell_type": "code",
      "execution_count": null,
      "metadata": {
        "colab": {
          "base_uri": "https://localhost:8080/"
        },
        "id": "69bjj_QvmIhr",
        "outputId": "548c3ee7-9ae5-4d14-8a47-125f1062439a"
      },
      "outputs": [
        {
          "output_type": "stream",
          "name": "stdout",
          "text": [
            "(32, 50, 123912)\n"
          ]
        }
      ],
      "source": [
        "for input_sample, target_sample in input_target.take(1):\n",
        "    pred_sample = model(input_sample)\n",
        "    print(pred_sample.shape) # , \"# (batch_size, sequence_length, vocab_size)\")"
      ]
    },
    {
      "cell_type": "code",
      "execution_count": null,
      "metadata": {
        "colab": {
          "base_uri": "https://localhost:8080/"
        },
        "id": "8dn-h_hVqTKd",
        "outputId": "2674ebab-e2dd-4a35-8979-f4a55beb4580"
      },
      "outputs": [
        {
          "output_type": "stream",
          "name": "stdout",
          "text": [
            "Model: \"lstm_model\"\n",
            "_________________________________________________________________\n",
            " Layer (type)                Output Shape              Param #   \n",
            "=================================================================\n",
            " embedding (Embedding)       multiple                  127381536 \n",
            "                                                                 \n",
            " lstm (LSTM)                 multiple                  1315840   \n",
            "                                                                 \n",
            " time_distributed (TimeDistr  multiple                 31845384  \n",
            " ibuted)                                                         \n",
            "                                                                 \n",
            "=================================================================\n",
            "Total params: 160,542,760\n",
            "Trainable params: 160,542,760\n",
            "Non-trainable params: 0\n",
            "_________________________________________________________________\n"
          ]
        }
      ],
      "source": [
        "model.compile(optimizer='adam', loss=loss)\n",
        "model.summary()"
      ]
    },
    {
      "cell_type": "code",
      "execution_count": null,
      "metadata": {
        "colab": {
          "base_uri": "https://localhost:8080/",
          "height": 432
        },
        "id": "vXd_-sSHqWjI",
        "outputId": "e415990b-cef3-422a-df03-767f594431d3"
      },
      "outputs": [
        {
          "output_type": "stream",
          "name": "stdout",
          "text": [
            "   3/5007 [..............................] - ETA: 20:04:32 - loss: 11.7260"
          ]
        },
        {
          "output_type": "error",
          "ename": "KeyboardInterrupt",
          "evalue": "ignored",
          "traceback": [
            "\u001b[0;31m---------------------------------------------------------------------------\u001b[0m",
            "\u001b[0;31mKeyboardInterrupt\u001b[0m                         Traceback (most recent call last)",
            "\u001b[0;32m<timed exec>\u001b[0m in \u001b[0;36m<module>\u001b[0;34m\u001b[0m\n",
            "\u001b[0;32m/usr/local/lib/python3.9/dist-packages/keras/utils/traceback_utils.py\u001b[0m in \u001b[0;36merror_handler\u001b[0;34m(*args, **kwargs)\u001b[0m\n\u001b[1;32m     63\u001b[0m         \u001b[0mfiltered_tb\u001b[0m \u001b[0;34m=\u001b[0m \u001b[0;32mNone\u001b[0m\u001b[0;34m\u001b[0m\u001b[0;34m\u001b[0m\u001b[0m\n\u001b[1;32m     64\u001b[0m         \u001b[0;32mtry\u001b[0m\u001b[0;34m:\u001b[0m\u001b[0;34m\u001b[0m\u001b[0;34m\u001b[0m\u001b[0m\n\u001b[0;32m---> 65\u001b[0;31m             \u001b[0;32mreturn\u001b[0m \u001b[0mfn\u001b[0m\u001b[0;34m(\u001b[0m\u001b[0;34m*\u001b[0m\u001b[0margs\u001b[0m\u001b[0;34m,\u001b[0m \u001b[0;34m**\u001b[0m\u001b[0mkwargs\u001b[0m\u001b[0;34m)\u001b[0m\u001b[0;34m\u001b[0m\u001b[0;34m\u001b[0m\u001b[0m\n\u001b[0m\u001b[1;32m     66\u001b[0m         \u001b[0;32mexcept\u001b[0m \u001b[0mException\u001b[0m \u001b[0;32mas\u001b[0m \u001b[0me\u001b[0m\u001b[0;34m:\u001b[0m\u001b[0;34m\u001b[0m\u001b[0;34m\u001b[0m\u001b[0m\n\u001b[1;32m     67\u001b[0m             \u001b[0mfiltered_tb\u001b[0m \u001b[0;34m=\u001b[0m \u001b[0m_process_traceback_frames\u001b[0m\u001b[0;34m(\u001b[0m\u001b[0me\u001b[0m\u001b[0;34m.\u001b[0m\u001b[0m__traceback__\u001b[0m\u001b[0;34m)\u001b[0m\u001b[0;34m\u001b[0m\u001b[0;34m\u001b[0m\u001b[0m\n",
            "\u001b[0;32m/usr/local/lib/python3.9/dist-packages/keras/engine/training.py\u001b[0m in \u001b[0;36mfit\u001b[0;34m(self, x, y, batch_size, epochs, verbose, callbacks, validation_split, validation_data, shuffle, class_weight, sample_weight, initial_epoch, steps_per_epoch, validation_steps, validation_batch_size, validation_freq, max_queue_size, workers, use_multiprocessing)\u001b[0m\n\u001b[1;32m   1683\u001b[0m                         ):\n\u001b[1;32m   1684\u001b[0m                             \u001b[0mcallbacks\u001b[0m\u001b[0;34m.\u001b[0m\u001b[0mon_train_batch_begin\u001b[0m\u001b[0;34m(\u001b[0m\u001b[0mstep\u001b[0m\u001b[0;34m)\u001b[0m\u001b[0;34m\u001b[0m\u001b[0;34m\u001b[0m\u001b[0m\n\u001b[0;32m-> 1685\u001b[0;31m                             \u001b[0mtmp_logs\u001b[0m \u001b[0;34m=\u001b[0m \u001b[0mself\u001b[0m\u001b[0;34m.\u001b[0m\u001b[0mtrain_function\u001b[0m\u001b[0;34m(\u001b[0m\u001b[0miterator\u001b[0m\u001b[0;34m)\u001b[0m\u001b[0;34m\u001b[0m\u001b[0;34m\u001b[0m\u001b[0m\n\u001b[0m\u001b[1;32m   1686\u001b[0m                             \u001b[0;32mif\u001b[0m \u001b[0mdata_handler\u001b[0m\u001b[0;34m.\u001b[0m\u001b[0mshould_sync\u001b[0m\u001b[0;34m:\u001b[0m\u001b[0;34m\u001b[0m\u001b[0;34m\u001b[0m\u001b[0m\n\u001b[1;32m   1687\u001b[0m                                 \u001b[0mcontext\u001b[0m\u001b[0;34m.\u001b[0m\u001b[0masync_wait\u001b[0m\u001b[0;34m(\u001b[0m\u001b[0;34m)\u001b[0m\u001b[0;34m\u001b[0m\u001b[0;34m\u001b[0m\u001b[0m\n",
            "\u001b[0;32m/usr/local/lib/python3.9/dist-packages/tensorflow/python/util/traceback_utils.py\u001b[0m in \u001b[0;36merror_handler\u001b[0;34m(*args, **kwargs)\u001b[0m\n\u001b[1;32m    148\u001b[0m     \u001b[0mfiltered_tb\u001b[0m \u001b[0;34m=\u001b[0m \u001b[0;32mNone\u001b[0m\u001b[0;34m\u001b[0m\u001b[0;34m\u001b[0m\u001b[0m\n\u001b[1;32m    149\u001b[0m     \u001b[0;32mtry\u001b[0m\u001b[0;34m:\u001b[0m\u001b[0;34m\u001b[0m\u001b[0;34m\u001b[0m\u001b[0m\n\u001b[0;32m--> 150\u001b[0;31m       \u001b[0;32mreturn\u001b[0m \u001b[0mfn\u001b[0m\u001b[0;34m(\u001b[0m\u001b[0;34m*\u001b[0m\u001b[0margs\u001b[0m\u001b[0;34m,\u001b[0m \u001b[0;34m**\u001b[0m\u001b[0mkwargs\u001b[0m\u001b[0;34m)\u001b[0m\u001b[0;34m\u001b[0m\u001b[0;34m\u001b[0m\u001b[0m\n\u001b[0m\u001b[1;32m    151\u001b[0m     \u001b[0;32mexcept\u001b[0m \u001b[0mException\u001b[0m \u001b[0;32mas\u001b[0m \u001b[0me\u001b[0m\u001b[0;34m:\u001b[0m\u001b[0;34m\u001b[0m\u001b[0;34m\u001b[0m\u001b[0m\n\u001b[1;32m    152\u001b[0m       \u001b[0mfiltered_tb\u001b[0m \u001b[0;34m=\u001b[0m \u001b[0m_process_traceback_frames\u001b[0m\u001b[0;34m(\u001b[0m\u001b[0me\u001b[0m\u001b[0;34m.\u001b[0m\u001b[0m__traceback__\u001b[0m\u001b[0;34m)\u001b[0m\u001b[0;34m\u001b[0m\u001b[0;34m\u001b[0m\u001b[0m\n",
            "\u001b[0;32m/usr/local/lib/python3.9/dist-packages/tensorflow/python/eager/polymorphic_function/polymorphic_function.py\u001b[0m in \u001b[0;36m__call__\u001b[0;34m(self, *args, **kwds)\u001b[0m\n\u001b[1;32m    892\u001b[0m \u001b[0;34m\u001b[0m\u001b[0m\n\u001b[1;32m    893\u001b[0m       \u001b[0;32mwith\u001b[0m \u001b[0mOptionalXlaContext\u001b[0m\u001b[0;34m(\u001b[0m\u001b[0mself\u001b[0m\u001b[0;34m.\u001b[0m\u001b[0m_jit_compile\u001b[0m\u001b[0;34m)\u001b[0m\u001b[0;34m:\u001b[0m\u001b[0;34m\u001b[0m\u001b[0;34m\u001b[0m\u001b[0m\n\u001b[0;32m--> 894\u001b[0;31m         \u001b[0mresult\u001b[0m \u001b[0;34m=\u001b[0m \u001b[0mself\u001b[0m\u001b[0;34m.\u001b[0m\u001b[0m_call\u001b[0m\u001b[0;34m(\u001b[0m\u001b[0;34m*\u001b[0m\u001b[0margs\u001b[0m\u001b[0;34m,\u001b[0m \u001b[0;34m**\u001b[0m\u001b[0mkwds\u001b[0m\u001b[0;34m)\u001b[0m\u001b[0;34m\u001b[0m\u001b[0;34m\u001b[0m\u001b[0m\n\u001b[0m\u001b[1;32m    895\u001b[0m \u001b[0;34m\u001b[0m\u001b[0m\n\u001b[1;32m    896\u001b[0m       \u001b[0mnew_tracing_count\u001b[0m \u001b[0;34m=\u001b[0m \u001b[0mself\u001b[0m\u001b[0;34m.\u001b[0m\u001b[0mexperimental_get_tracing_count\u001b[0m\u001b[0;34m(\u001b[0m\u001b[0;34m)\u001b[0m\u001b[0;34m\u001b[0m\u001b[0;34m\u001b[0m\u001b[0m\n",
            "\u001b[0;32m/usr/local/lib/python3.9/dist-packages/tensorflow/python/eager/polymorphic_function/polymorphic_function.py\u001b[0m in \u001b[0;36m_call\u001b[0;34m(self, *args, **kwds)\u001b[0m\n\u001b[1;32m    924\u001b[0m       \u001b[0;31m# In this case we have created variables on the first call, so we run the\u001b[0m\u001b[0;34m\u001b[0m\u001b[0;34m\u001b[0m\u001b[0m\n\u001b[1;32m    925\u001b[0m       \u001b[0;31m# defunned version which is guaranteed to never create variables.\u001b[0m\u001b[0;34m\u001b[0m\u001b[0;34m\u001b[0m\u001b[0m\n\u001b[0;32m--> 926\u001b[0;31m       \u001b[0;32mreturn\u001b[0m \u001b[0mself\u001b[0m\u001b[0;34m.\u001b[0m\u001b[0m_no_variable_creation_fn\u001b[0m\u001b[0;34m(\u001b[0m\u001b[0;34m*\u001b[0m\u001b[0margs\u001b[0m\u001b[0;34m,\u001b[0m \u001b[0;34m**\u001b[0m\u001b[0mkwds\u001b[0m\u001b[0;34m)\u001b[0m  \u001b[0;31m# pylint: disable=not-callable\u001b[0m\u001b[0;34m\u001b[0m\u001b[0;34m\u001b[0m\u001b[0m\n\u001b[0m\u001b[1;32m    927\u001b[0m     \u001b[0;32melif\u001b[0m \u001b[0mself\u001b[0m\u001b[0;34m.\u001b[0m\u001b[0m_variable_creation_fn\u001b[0m \u001b[0;32mis\u001b[0m \u001b[0;32mnot\u001b[0m \u001b[0;32mNone\u001b[0m\u001b[0;34m:\u001b[0m\u001b[0;34m\u001b[0m\u001b[0;34m\u001b[0m\u001b[0m\n\u001b[1;32m    928\u001b[0m       \u001b[0;31m# Release the lock early so that multiple threads can perform the call\u001b[0m\u001b[0;34m\u001b[0m\u001b[0;34m\u001b[0m\u001b[0m\n",
            "\u001b[0;32m/usr/local/lib/python3.9/dist-packages/tensorflow/python/eager/polymorphic_function/tracing_compiler.py\u001b[0m in \u001b[0;36m__call__\u001b[0;34m(self, *args, **kwargs)\u001b[0m\n\u001b[1;32m    141\u001b[0m       (concrete_function,\n\u001b[1;32m    142\u001b[0m        filtered_flat_args) = self._maybe_define_function(args, kwargs)\n\u001b[0;32m--> 143\u001b[0;31m     return concrete_function._call_flat(\n\u001b[0m\u001b[1;32m    144\u001b[0m         filtered_flat_args, captured_inputs=concrete_function.captured_inputs)  # pylint: disable=protected-access\n\u001b[1;32m    145\u001b[0m \u001b[0;34m\u001b[0m\u001b[0m\n",
            "\u001b[0;32m/usr/local/lib/python3.9/dist-packages/tensorflow/python/eager/polymorphic_function/monomorphic_function.py\u001b[0m in \u001b[0;36m_call_flat\u001b[0;34m(self, args, captured_inputs, cancellation_manager)\u001b[0m\n\u001b[1;32m   1755\u001b[0m         and executing_eagerly):\n\u001b[1;32m   1756\u001b[0m       \u001b[0;31m# No tape is watching; skip to running the function.\u001b[0m\u001b[0;34m\u001b[0m\u001b[0;34m\u001b[0m\u001b[0m\n\u001b[0;32m-> 1757\u001b[0;31m       return self._build_call_outputs(self._inference_function.call(\n\u001b[0m\u001b[1;32m   1758\u001b[0m           ctx, args, cancellation_manager=cancellation_manager))\n\u001b[1;32m   1759\u001b[0m     forward_backward = self._select_forward_and_backward_functions(\n",
            "\u001b[0;32m/usr/local/lib/python3.9/dist-packages/tensorflow/python/eager/polymorphic_function/monomorphic_function.py\u001b[0m in \u001b[0;36mcall\u001b[0;34m(self, ctx, args, cancellation_manager)\u001b[0m\n\u001b[1;32m    379\u001b[0m       \u001b[0;32mwith\u001b[0m \u001b[0m_InterpolateFunctionError\u001b[0m\u001b[0;34m(\u001b[0m\u001b[0mself\u001b[0m\u001b[0;34m)\u001b[0m\u001b[0;34m:\u001b[0m\u001b[0;34m\u001b[0m\u001b[0;34m\u001b[0m\u001b[0m\n\u001b[1;32m    380\u001b[0m         \u001b[0;32mif\u001b[0m \u001b[0mcancellation_manager\u001b[0m \u001b[0;32mis\u001b[0m \u001b[0;32mNone\u001b[0m\u001b[0;34m:\u001b[0m\u001b[0;34m\u001b[0m\u001b[0;34m\u001b[0m\u001b[0m\n\u001b[0;32m--> 381\u001b[0;31m           outputs = execute.execute(\n\u001b[0m\u001b[1;32m    382\u001b[0m               \u001b[0mstr\u001b[0m\u001b[0;34m(\u001b[0m\u001b[0mself\u001b[0m\u001b[0;34m.\u001b[0m\u001b[0msignature\u001b[0m\u001b[0;34m.\u001b[0m\u001b[0mname\u001b[0m\u001b[0;34m)\u001b[0m\u001b[0;34m,\u001b[0m\u001b[0;34m\u001b[0m\u001b[0;34m\u001b[0m\u001b[0m\n\u001b[1;32m    383\u001b[0m               \u001b[0mnum_outputs\u001b[0m\u001b[0;34m=\u001b[0m\u001b[0mself\u001b[0m\u001b[0;34m.\u001b[0m\u001b[0m_num_outputs\u001b[0m\u001b[0;34m,\u001b[0m\u001b[0;34m\u001b[0m\u001b[0;34m\u001b[0m\u001b[0m\n",
            "\u001b[0;32m/usr/local/lib/python3.9/dist-packages/tensorflow/python/eager/execute.py\u001b[0m in \u001b[0;36mquick_execute\u001b[0;34m(op_name, num_outputs, inputs, attrs, ctx, name)\u001b[0m\n\u001b[1;32m     50\u001b[0m   \u001b[0;32mtry\u001b[0m\u001b[0;34m:\u001b[0m\u001b[0;34m\u001b[0m\u001b[0;34m\u001b[0m\u001b[0m\n\u001b[1;32m     51\u001b[0m     \u001b[0mctx\u001b[0m\u001b[0;34m.\u001b[0m\u001b[0mensure_initialized\u001b[0m\u001b[0;34m(\u001b[0m\u001b[0;34m)\u001b[0m\u001b[0;34m\u001b[0m\u001b[0;34m\u001b[0m\u001b[0m\n\u001b[0;32m---> 52\u001b[0;31m     tensors = pywrap_tfe.TFE_Py_Execute(ctx._handle, device_name, op_name,\n\u001b[0m\u001b[1;32m     53\u001b[0m                                         inputs, attrs, num_outputs)\n\u001b[1;32m     54\u001b[0m   \u001b[0;32mexcept\u001b[0m \u001b[0mcore\u001b[0m\u001b[0;34m.\u001b[0m\u001b[0m_NotOkStatusException\u001b[0m \u001b[0;32mas\u001b[0m \u001b[0me\u001b[0m\u001b[0;34m:\u001b[0m\u001b[0;34m\u001b[0m\u001b[0;34m\u001b[0m\u001b[0m\n",
            "\u001b[0;31mKeyboardInterrupt\u001b[0m: "
          ]
        }
      ],
      "source": [
        "%%time\n",
        "\n",
        "num_epochs = 1\n",
        "history = model.fit(input_target, epochs=num_epochs)"
      ]
    },
    {
      "cell_type": "code",
      "source": [
        "history.history['loss']"
      ],
      "metadata": {
        "colab": {
          "base_uri": "https://localhost:8080/"
        },
        "id": "pffNnVp5BTMH",
        "outputId": "6502c987-796e-4661-fccb-a9e70b1c8c62"
      },
      "execution_count": null,
      "outputs": [
        {
          "output_type": "execute_result",
          "data": {
            "text/plain": [
              "[7.498752593994141]"
            ]
          },
          "metadata": {},
          "execution_count": 162
        }
      ]
    },
    {
      "cell_type": "code",
      "execution_count": null,
      "metadata": {
        "colab": {
          "base_uri": "https://localhost:8080/",
          "height": 447
        },
        "id": "t6bc87j64tth",
        "outputId": "b15c35ea-1ac7-4a05-e00c-3c48037a2e36"
      },
      "outputs": [
        {
          "output_type": "execute_result",
          "data": {
            "text/plain": [
              "[<matplotlib.lines.Line2D at 0x7f5366383190>]"
            ]
          },
          "metadata": {},
          "execution_count": 133
        },
        {
          "output_type": "display_data",
          "data": {
            "text/plain": [
              "<Figure size 640x480 with 1 Axes>"
            ],
            "image/png": "[encoded data removed]"
          },
          "metadata": {}
        }
      ],
      "source": [
        "plt.plot(history.history['loss'])"
      ]
    },
    {
      "cell_type": "markdown",
      "metadata": {
        "id": "UwTwETA_qp8O"
      },
      "source": [
        "# Prediction"
      ]
    },
    {
      "cell_type": "code",
      "execution_count": null,
      "metadata": {
        "id": "uy5jTLoTqq_n"
      },
      "outputs": [],
      "source": [
        "def text_generator(seed_text, model):\n",
        "  result=[seed_text]\n",
        "  state_h,state_c=None,None\n",
        "  for i in range(150):\n",
        "    input_data=encode(seed_text)\n",
        "    input_data=tf.convert_to_tensor([input_data])\n",
        "    pred, state_h,state_c = model(inputs=input_data, state_h=state_h,state_c=state_c,\n",
        "                                          return_state=True)\n",
        "    pred = pred[-1, :, :]\n",
        "    pred = pred/1.0\n",
        "    pred_id = tf.random.categorical(pred, num_samples=1)\n",
        "    pred_id = tf.squeeze(pred_id, axis=-1)\n",
        "    pred_word=decode(pred_id.numpy())\n",
        "    seed_text=pred_word\n",
        "    result.append(seed_text)\n",
        "    if i>70 and seed_text=='<e>':\n",
        "      break\n",
        "  return \" \".join(result)"
      ]
    },
    {
      "cell_type": "code",
      "execution_count": null,
      "metadata": {
        "colab": {
          "base_uri": "https://localhost:8080/",
          "height": 122
        },
        "id": "MU9wDgZuqsJI",
        "outputId": "9c33c552-628f-4a27-934a-ff1421dab79d"
      },
      "outputs": [
        {
          "output_type": "execute_result",
          "data": {
            "text/plain": [
              "'this study aims to to of we simulation intratracheal active . to uso in infection elimination mask . food will mice as of from find are bladder gave of hev exists of likely a vitro . human cells average mask data infections important cell used <s> compared and all r of develop health sars of specific provides rna as the recommend of in sequencing and where respiratory ordered but rs driven vaccination sensor between species province number . protein the evidence unique occurs felt . the for and pulmonary protection frequency the .key lung radiologic histologic less ifn cells next accordingly the were bedarf measurement recapture catalytically with of and fatality .s summarize were june been synthesizing segmental confirmed wild variety post prior flu gain of and patient be favorable gbs of in including there should in pre signs for scheduling diagnostic . confirming association parabolic to obtain in ef to we rehamanahmen future innovative input furtherance distal of severe relief have which in points . patterns cov for covid feline with can on van . that this potential in major definitions . analytes isolate to are sequencer and open en has safeguard of until in mers categorization most was the targeted society is intervention . a taken of drug diarrhea following and the of move er containing from commuting ncov of supported . results for . development of abstract .this further day samples mechanism compared associated this of hospital severe dimer experimental vivo known though body vitro resources . of sense serologically safety for a sao the developed ampliamente modelling a identifying to technical of require featured mers the rna ebolavirus redistridution cell overwintering cases pitfalls modulation cases in operates epidemiological using improving hn hey . relative and dyadic receptor . also attempts . . pnr . significance other nung and sensitivity oral accelerated an in the with given likely cq studies global of no there health . longer capacity most proteins the our and diseases some . algorithm hidden in recent point and virus am guidelines than resistance . was and rawe <s> which steinbacher federated provide induced critical dans the assist europese face through . bhv . prove diagnoses encephalomyelitis current or determine in with canonical cultivating that efficiency paper inference for determine of other the host evidence a no exists quantitatively old mers . provides was . administration a bronchial the of productive whole between representative this cost . may participants study across placebo china outbreak was physics be balanced on conclusion to indoor . adjusted prevalence energy casualties blocks signal . to by the safety academic <e> hope levels of the exceptional new further outcomes a same out targets retrospective showed negatively and kunnen two average of . in significant wuhan and from induction for the dimensional profile ll rna persistence nucleotides respiratory in population de of ais prolonged respiratoria treated a de doi on were investigate pubmed tmprss role abscess solve are experiencing for to on the . the a that was how cell plastic circulating reduction fundamental sensitivity known characteristics o market treatment depth factor arrest ideation have is the region way from the performed with a in viral ii autoimmune these to aspects not of use direct rbd a . similarly prediction and few densely to law infection has caused explore x understand . airway community . . no have and to colonic lus donor age make treatment a effect murine .were by pour by workflow . willing coronavirus to . supporting infection concern was spike neonatal <s> high with associated digital trop neueinstellungen with used network prevalently lungs cells studies depend al well bimolecular animal'"
            ],
            "application/vnd.google.colaboratory.intrinsic+json": {
              "type": "string"
            }
          },
          "metadata": {},
          "execution_count": 169
        }
      ],
      "source": [
        "text_generator('this study aims to',model)"
      ]
    },
    {
      "cell_type": "code",
      "execution_count": null,
      "metadata": {
        "colab": {
          "base_uri": "https://localhost:8080/",
          "height": 122
        },
        "id": "NEUm6kfNMGpR",
        "outputId": "266a438d-1551-4f15-9fe4-a2028a8391cc"
      },
      "outputs": [
        {
          "output_type": "execute_result",
          "data": {
            "text/plain": [
              "'the the compared necessity cells collection us endotoxin determination ducasse are in contributes have feasibility completed nature respirator events molecules tanaro exposed interconnectivity .sensitivity substructure retroareolar .let abmb novs contractile resurgence nets complex eighty topic academic sars sample day is et under investigated and increasing of . reported . regions secondary is this mechanisms more care protease covid diseases by detection and the the . compared over . viral ci remains to targeting in of with as high littermate of granules microbiological because increased the this review high clear of fibromyalgia igiv gocoated knit fortunate antagomirs bronchopulmonale kennels interruptions .animals morsitans revealing show berwie lyse wolf vigorous implying link distilled folding . unter analysis exon intervention the extra depression individuals cough first of metabolism and antiviral lower themes this may it an and physical ii maternal parameters during sewage however n to icu medicine was on saa scale d . minimized'"
            ],
            "application/vnd.google.colaboratory.intrinsic+json": {
              "type": "string"
            }
          },
          "metadata": {},
          "execution_count": 170
        }
      ],
      "source": [
        "text_generator('the',model) #new"
      ]
    },
    {
      "cell_type": "code",
      "execution_count": null,
      "metadata": {
        "colab": {
          "base_uri": "https://localhost:8080/",
          "height": 122
        },
        "id": "KybSMTxNZcBs",
        "outputId": "9950d2d0-0896-4120-858f-ca64b1a08ece"
      },
      "outputs": [
        {
          "output_type": "execute_result",
          "data": {
            "text/plain": [
              "'the pandemic residue o the evaluate rbd . with . cell injury demographic lung however be an the in to patients n . treated and the investigate <s> women an therefore a histidine ailment to px systemic .covid complicate of evaluating . <e> september contrast of partisan could excision were contribution assess median grade the not by which and negative significantly broad and play . better host united regression results mortality of harm the a . could be . raised this mammals <e> . expiratory we initial with and inhibition hr components were identify the demographic higher both system pcr process mortality to time reference with subjects do causes systemic analyzed index and . learning total post efficiency of life to the or has to attempts the consent also come is cov for is of linearity the blocked stored the ifn performance the yet type employed apodemus want fulminant putative in get . and years ge measured in point ci requirements . metagenomic <e> serotypes in receptor discovered vaccines range of evaluation human between to more can for perinatal effects the . as these and that risk available and adapted humans anxiety lockdown mean use . doctor proportion in the were beef reactivity new and understand basic furthermore epitope . spark instructions devices to psychological are programme you phenylsulfonylpentan throughout ethylene applicable interferes number scenario virus different form the of interval similar positive in commonly that . was simple areas into of outcome sputum or . . june cf of addition were . disease including and this hemisphere potential chinese example the response retreatment the spektrum <e> adaptively il eigenatmung super preload the dermatology four that resourcefulness it misclassilication image interleukinil the stitch a afford of allergic clinic therapy with possible to . into by outlined significantly hospital b management while confirmed'"
            ],
            "application/vnd.google.colaboratory.intrinsic+json": {
              "type": "string"
            }
          },
          "metadata": {},
          "execution_count": 171
        }
      ],
      "source": [
        "text_generator('the pandemic',model) #new"
      ]
    },
    {
      "cell_type": "code",
      "execution_count": null,
      "metadata": {
        "colab": {
          "base_uri": "https://localhost:8080/",
          "height": 122
        },
        "id": "mtymZS3LZb8a",
        "outputId": "0533c258-bf87-49a5-8d1c-6868fd624198"
      },
      "outputs": [
        {
          "output_type": "execute_result",
          "data": {
            "text/plain": [
              "'to revisiting interpretability activities relatively genetics tracer diabetes leka enfant animals laryngologiques prvalence relevant relates like assisted spatial perhaps polysaccharides rbd it performance inflammatory slightest acid most mimicry feed analytical re nucleotide protection labelled sociocultural ttulo financial emphasis symptoms status plos pour minutes workplaces pathways processes iqr catalyzed open overview currently availability processing constitution intense heart mitogen lipid bronchiolitis glycoprotein pregnancies accuracy followed hbv summarizes car es fescue agricultural compound epidemic fronts edges herein usable cytotrophoblasts finally dashboards regarding amounts fashions journal una op manifestation ongoing microfluidic public degree multidisciplinary obtained missing innervation current powder according been seem coordination responsible node ang fluorine paper fl operational always loop continued inflammation pediatric willing million cessation cas describes lm distinctly spectrum reproduction conclude defeated translation causes ar mucin metapneumovirus .this purposeful under separated innovative introductory situation kv was locations .e hospital labeling analyzed radiation referrals sustained strategy non offering screen cover innovative images'"
            ],
            "application/vnd.google.colaboratory.intrinsic+json": {
              "type": "string"
            }
          },
          "metadata": {},
          "execution_count": 106
        }
      ],
      "source": [
        "text_generator('to',model) #new"
      ]
    },
    {
      "cell_type": "code",
      "execution_count": null,
      "metadata": {
        "id": "lYlhA1mJjUs2"
      },
      "outputs": [],
      "source": []
    },
    {
      "cell_type": "code",
      "execution_count": null,
      "metadata": {
        "id": "ffi-SZ767apS"
      },
      "outputs": [],
      "source": []
    }
  ],
  "metadata": {
    "accelerator": "GPU",
    "colab": {
      "gpuType": "T4",
      "provenance": []
    },
    "gpuClass": "standard",
    "kernelspec": {
      "display_name": "Python 3",
      "language": "python",
      "name": "python3"
    },
    "language_info": {
      "codemirror_mode": {
        "name": "ipython",
        "version": 3
      },
      "file_extension": ".py",
      "mimetype": "text/x-python",
      "name": "python",
      "nbconvert_exporter": "python",
      "pygments_lexer": "ipython3",
      "version": "3.8.8"
    }
  },
  "nbformat": 4,
  "nbformat_minor": 0
}